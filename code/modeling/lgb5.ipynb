{
 "cells": [
  {
   "cell_type": "code",
   "execution_count": 1,
   "id": "fatal-vertical",
   "metadata": {},
   "outputs": [],
   "source": [
    "# Neptune"
   ]
  },
  {
   "cell_type": "code",
   "execution_count": 2,
   "id": "statutory-variety",
   "metadata": {},
   "outputs": [],
   "source": [
    "import os\n",
    "# !pip install swifter"
   ]
  },
  {
   "cell_type": "code",
   "execution_count": 3,
   "id": "unavailable-strap",
   "metadata": {},
   "outputs": [],
   "source": [
    "# Path "
   ]
  },
  {
   "cell_type": "code",
   "execution_count": 4,
   "id": "advance-workplace",
   "metadata": {},
   "outputs": [],
   "source": [
    "train_path = \"../../data/local/train.csv\"\n",
    "test_path = \"../../data/local/test.csv\""
   ]
  },
  {
   "cell_type": "code",
   "execution_count": 5,
   "id": "hollywood-award",
   "metadata": {},
   "outputs": [
    {
     "name": "stdout",
     "output_type": "stream",
     "text": [
      "data\n",
      "../../data/local/train.csv\n",
      "../../data/local/test.csv\n"
     ]
    }
   ],
   "source": [
    "print(\"data\")\n",
    "print(train_path)\n",
    "print(test_path)"
   ]
  },
  {
   "cell_type": "code",
   "execution_count": null,
   "id": "operational-russia",
   "metadata": {},
   "outputs": [],
   "source": []
  },
  {
   "cell_type": "code",
   "execution_count": 6,
   "id": "outdoor-reader",
   "metadata": {},
   "outputs": [],
   "source": [
    "# Load data "
   ]
  },
  {
   "cell_type": "code",
   "execution_count": 7,
   "id": "conscious-jungle",
   "metadata": {},
   "outputs": [],
   "source": [
    "import pandas as pd\n",
    "from sklearn.model_selection import train_test_split\n",
    "import lightgbm as lgb\n",
    "from sklearn.metrics import precision_recall_curve, accuracy_score\n",
    "import seaborn as sns\n",
    "from tqdm import tqdm\n",
    "import swifter"
   ]
  },
  {
   "cell_type": "code",
   "execution_count": 8,
   "id": "ranging-restriction",
   "metadata": {},
   "outputs": [],
   "source": [
    "import re\n"
   ]
  },
  {
   "cell_type": "code",
   "execution_count": 9,
   "id": "velvet-indonesian",
   "metadata": {},
   "outputs": [],
   "source": [
    "df_train = pd.read_csv(train_path)"
   ]
  },
  {
   "cell_type": "code",
   "execution_count": 10,
   "id": "smooth-clause",
   "metadata": {},
   "outputs": [
    {
     "data": {
      "text/html": [
       "<div>\n",
       "<style scoped>\n",
       "    .dataframe tbody tr th:only-of-type {\n",
       "        vertical-align: middle;\n",
       "    }\n",
       "\n",
       "    .dataframe tbody tr th {\n",
       "        vertical-align: top;\n",
       "    }\n",
       "\n",
       "    .dataframe thead th {\n",
       "        text-align: right;\n",
       "    }\n",
       "</style>\n",
       "<table border=\"1\" class=\"dataframe\">\n",
       "  <thead>\n",
       "    <tr style=\"text-align: right;\">\n",
       "      <th></th>\n",
       "      <th>PassengerId</th>\n",
       "      <th>Survived</th>\n",
       "      <th>Pclass</th>\n",
       "      <th>Name</th>\n",
       "      <th>Sex</th>\n",
       "      <th>Age</th>\n",
       "      <th>SibSp</th>\n",
       "      <th>Parch</th>\n",
       "      <th>Ticket</th>\n",
       "      <th>Fare</th>\n",
       "      <th>Cabin</th>\n",
       "      <th>Embarked</th>\n",
       "    </tr>\n",
       "  </thead>\n",
       "  <tbody>\n",
       "    <tr>\n",
       "      <th>0</th>\n",
       "      <td>32456</td>\n",
       "      <td>1</td>\n",
       "      <td>1</td>\n",
       "      <td>Benitez, Christy</td>\n",
       "      <td>female</td>\n",
       "      <td>45.0</td>\n",
       "      <td>1</td>\n",
       "      <td>0</td>\n",
       "      <td>47782</td>\n",
       "      <td>34.53</td>\n",
       "      <td>C20721</td>\n",
       "      <td>S</td>\n",
       "    </tr>\n",
       "    <tr>\n",
       "      <th>1</th>\n",
       "      <td>40212</td>\n",
       "      <td>0</td>\n",
       "      <td>2</td>\n",
       "      <td>Dennis, Gary</td>\n",
       "      <td>male</td>\n",
       "      <td>32.0</td>\n",
       "      <td>0</td>\n",
       "      <td>0</td>\n",
       "      <td>202451</td>\n",
       "      <td>7.88</td>\n",
       "      <td>NaN</td>\n",
       "      <td>S</td>\n",
       "    </tr>\n",
       "    <tr>\n",
       "      <th>2</th>\n",
       "      <td>49626</td>\n",
       "      <td>1</td>\n",
       "      <td>1</td>\n",
       "      <td>Oatney, Carol</td>\n",
       "      <td>female</td>\n",
       "      <td>29.0</td>\n",
       "      <td>1</td>\n",
       "      <td>2</td>\n",
       "      <td>PC 22646</td>\n",
       "      <td>82.21</td>\n",
       "      <td>B14660</td>\n",
       "      <td>C</td>\n",
       "    </tr>\n",
       "    <tr>\n",
       "      <th>3</th>\n",
       "      <td>17676</td>\n",
       "      <td>1</td>\n",
       "      <td>2</td>\n",
       "      <td>Bailey, Ronnie</td>\n",
       "      <td>male</td>\n",
       "      <td>55.0</td>\n",
       "      <td>0</td>\n",
       "      <td>1</td>\n",
       "      <td>196804</td>\n",
       "      <td>9.65</td>\n",
       "      <td>NaN</td>\n",
       "      <td>S</td>\n",
       "    </tr>\n",
       "    <tr>\n",
       "      <th>4</th>\n",
       "      <td>29881</td>\n",
       "      <td>1</td>\n",
       "      <td>2</td>\n",
       "      <td>Summers, Pamela</td>\n",
       "      <td>female</td>\n",
       "      <td>62.0</td>\n",
       "      <td>0</td>\n",
       "      <td>0</td>\n",
       "      <td>6878</td>\n",
       "      <td>27.76</td>\n",
       "      <td>NaN</td>\n",
       "      <td>S</td>\n",
       "    </tr>\n",
       "  </tbody>\n",
       "</table>\n",
       "</div>"
      ],
      "text/plain": [
       "   PassengerId  Survived  Pclass              Name     Sex   Age  SibSp  \\\n",
       "0        32456         1       1  Benitez, Christy  female  45.0      1   \n",
       "1        40212         0       2      Dennis, Gary    male  32.0      0   \n",
       "2        49626         1       1     Oatney, Carol  female  29.0      1   \n",
       "3        17676         1       2    Bailey, Ronnie    male  55.0      0   \n",
       "4        29881         1       2   Summers, Pamela  female  62.0      0   \n",
       "\n",
       "   Parch    Ticket   Fare   Cabin Embarked  \n",
       "0      0     47782  34.53  C20721        S  \n",
       "1      0    202451   7.88     NaN        S  \n",
       "2      2  PC 22646  82.21  B14660        C  \n",
       "3      1    196804   9.65     NaN        S  \n",
       "4      0      6878  27.76     NaN        S  "
      ]
     },
     "execution_count": 10,
     "metadata": {},
     "output_type": "execute_result"
    }
   ],
   "source": [
    "df_train.head()"
   ]
  },
  {
   "cell_type": "code",
   "execution_count": 11,
   "id": "following-corporation",
   "metadata": {},
   "outputs": [
    {
     "data": {
      "text/plain": [
       "PassengerId    50000\n",
       "Survived       50000\n",
       "Pclass         50000\n",
       "Name           50000\n",
       "Sex            50000\n",
       "Age            48370\n",
       "SibSp          50000\n",
       "Parch          50000\n",
       "Ticket         47605\n",
       "Fare           49945\n",
       "Cabin          16066\n",
       "Embarked       49881\n",
       "dtype: int64"
      ]
     },
     "execution_count": 11,
     "metadata": {},
     "output_type": "execute_result"
    }
   ],
   "source": [
    "df_train.count()"
   ]
  },
  {
   "cell_type": "code",
   "execution_count": 12,
   "id": "bound-coalition",
   "metadata": {},
   "outputs": [],
   "source": [
    "df_test = pd.read_csv(test_path)"
   ]
  },
  {
   "cell_type": "code",
   "execution_count": 13,
   "id": "finite-lodging",
   "metadata": {},
   "outputs": [
    {
     "data": {
      "text/html": [
       "<div>\n",
       "<style scoped>\n",
       "    .dataframe tbody tr th:only-of-type {\n",
       "        vertical-align: middle;\n",
       "    }\n",
       "\n",
       "    .dataframe tbody tr th {\n",
       "        vertical-align: top;\n",
       "    }\n",
       "\n",
       "    .dataframe thead th {\n",
       "        text-align: right;\n",
       "    }\n",
       "</style>\n",
       "<table border=\"1\" class=\"dataframe\">\n",
       "  <thead>\n",
       "    <tr style=\"text-align: right;\">\n",
       "      <th></th>\n",
       "      <th>PassengerId</th>\n",
       "      <th>Survived</th>\n",
       "      <th>Pclass</th>\n",
       "      <th>Name</th>\n",
       "      <th>Sex</th>\n",
       "      <th>Age</th>\n",
       "      <th>SibSp</th>\n",
       "      <th>Parch</th>\n",
       "      <th>Ticket</th>\n",
       "      <th>Fare</th>\n",
       "      <th>Cabin</th>\n",
       "      <th>Embarked</th>\n",
       "    </tr>\n",
       "  </thead>\n",
       "  <tbody>\n",
       "    <tr>\n",
       "      <th>0</th>\n",
       "      <td>86332</td>\n",
       "      <td>0</td>\n",
       "      <td>2</td>\n",
       "      <td>Whitson, Ryan</td>\n",
       "      <td>male</td>\n",
       "      <td>24.0</td>\n",
       "      <td>0</td>\n",
       "      <td>0</td>\n",
       "      <td>A.5. 23091</td>\n",
       "      <td>25.16</td>\n",
       "      <td>NaN</td>\n",
       "      <td>S</td>\n",
       "    </tr>\n",
       "    <tr>\n",
       "      <th>1</th>\n",
       "      <td>58553</td>\n",
       "      <td>0</td>\n",
       "      <td>1</td>\n",
       "      <td>Crossland, Winston</td>\n",
       "      <td>male</td>\n",
       "      <td>52.0</td>\n",
       "      <td>0</td>\n",
       "      <td>0</td>\n",
       "      <td>465968</td>\n",
       "      <td>27.69</td>\n",
       "      <td>C20653</td>\n",
       "      <td>S</td>\n",
       "    </tr>\n",
       "    <tr>\n",
       "      <th>2</th>\n",
       "      <td>91948</td>\n",
       "      <td>0</td>\n",
       "      <td>3</td>\n",
       "      <td>Mullins, William</td>\n",
       "      <td>male</td>\n",
       "      <td>47.0</td>\n",
       "      <td>1</td>\n",
       "      <td>1</td>\n",
       "      <td>13873</td>\n",
       "      <td>13.06</td>\n",
       "      <td>NaN</td>\n",
       "      <td>S</td>\n",
       "    </tr>\n",
       "    <tr>\n",
       "      <th>3</th>\n",
       "      <td>92894</td>\n",
       "      <td>0</td>\n",
       "      <td>2</td>\n",
       "      <td>Mcnamara, Richard</td>\n",
       "      <td>male</td>\n",
       "      <td>1.0</td>\n",
       "      <td>1</td>\n",
       "      <td>2</td>\n",
       "      <td>469361</td>\n",
       "      <td>32.94</td>\n",
       "      <td>NaN</td>\n",
       "      <td>S</td>\n",
       "    </tr>\n",
       "    <tr>\n",
       "      <th>4</th>\n",
       "      <td>29714</td>\n",
       "      <td>0</td>\n",
       "      <td>2</td>\n",
       "      <td>Vogel, Richard</td>\n",
       "      <td>male</td>\n",
       "      <td>30.0</td>\n",
       "      <td>0</td>\n",
       "      <td>0</td>\n",
       "      <td>11235</td>\n",
       "      <td>7.03</td>\n",
       "      <td>NaN</td>\n",
       "      <td>S</td>\n",
       "    </tr>\n",
       "  </tbody>\n",
       "</table>\n",
       "</div>"
      ],
      "text/plain": [
       "   PassengerId  Survived  Pclass                Name   Sex   Age  SibSp  \\\n",
       "0        86332         0       2       Whitson, Ryan  male  24.0      0   \n",
       "1        58553         0       1  Crossland, Winston  male  52.0      0   \n",
       "2        91948         0       3    Mullins, William  male  47.0      1   \n",
       "3        92894         0       2   Mcnamara, Richard  male   1.0      1   \n",
       "4        29714         0       2      Vogel, Richard  male  30.0      0   \n",
       "\n",
       "   Parch      Ticket   Fare   Cabin Embarked  \n",
       "0      0  A.5. 23091  25.16     NaN        S  \n",
       "1      0      465968  27.69  C20653        S  \n",
       "2      1       13873  13.06     NaN        S  \n",
       "3      2      469361  32.94     NaN        S  \n",
       "4      0       11235   7.03     NaN        S  "
      ]
     },
     "execution_count": 13,
     "metadata": {},
     "output_type": "execute_result"
    }
   ],
   "source": [
    "df_test.head()"
   ]
  },
  {
   "cell_type": "markdown",
   "id": "cooperative-crown",
   "metadata": {},
   "source": [
    "# Feature Extraction "
   ]
  },
  {
   "cell_type": "code",
   "execution_count": 14,
   "id": "continued-aruba",
   "metadata": {},
   "outputs": [],
   "source": [
    "from sklearn import preprocessing"
   ]
  },
  {
   "cell_type": "markdown",
   "id": "developing-contest",
   "metadata": {},
   "source": [
    "## Encoding Sex"
   ]
  },
  {
   "cell_type": "code",
   "execution_count": 15,
   "id": "promotional-payroll",
   "metadata": {},
   "outputs": [],
   "source": [
    "sex_encoder = preprocessing.LabelEncoder()"
   ]
  },
  {
   "cell_type": "code",
   "execution_count": 16,
   "id": "derived-triple",
   "metadata": {},
   "outputs": [
    {
     "data": {
      "text/plain": [
       "LabelEncoder()"
      ]
     },
     "execution_count": 16,
     "metadata": {},
     "output_type": "execute_result"
    }
   ],
   "source": [
    "sex_encoder.fit(list(df_train[\"Sex\"]) + list(df_test[\"Sex\"]))"
   ]
  },
  {
   "cell_type": "code",
   "execution_count": 17,
   "id": "animal-source",
   "metadata": {},
   "outputs": [],
   "source": [
    "df_train[\"Sex_feature\"] = sex_encoder.transform(df_train[\"Sex\"])"
   ]
  },
  {
   "cell_type": "code",
   "execution_count": 18,
   "id": "close-family",
   "metadata": {},
   "outputs": [],
   "source": [
    "df_test[\"Sex_feature\"] = sex_encoder.transform(df_test[\"Sex\"])"
   ]
  },
  {
   "cell_type": "markdown",
   "id": "standing-western",
   "metadata": {},
   "source": [
    "## Encoding Embarked"
   ]
  },
  {
   "cell_type": "code",
   "execution_count": 19,
   "id": "alpine-distance",
   "metadata": {},
   "outputs": [],
   "source": [
    "embarked_encoder = preprocessing.LabelEncoder()\n",
    "df_train[\"Embarked\"] = df_train[\"Embarked\"].fillna(\"UNK\")\n",
    "df_test[\"Embarked\"] = df_test[\"Embarked\"].fillna(\"UNK\")"
   ]
  },
  {
   "cell_type": "code",
   "execution_count": 20,
   "id": "attractive-transportation",
   "metadata": {},
   "outputs": [
    {
     "data": {
      "text/plain": [
       "LabelEncoder()"
      ]
     },
     "execution_count": 20,
     "metadata": {},
     "output_type": "execute_result"
    }
   ],
   "source": [
    "embarked_encoder.fit(list(df_train[\"Embarked\"]) + list(df_test[\"Embarked\"]))"
   ]
  },
  {
   "cell_type": "code",
   "execution_count": 21,
   "id": "extensive-mills",
   "metadata": {},
   "outputs": [],
   "source": [
    "df_train[\"Embarked_feature\"] = embarked_encoder.transform(df_train[\"Embarked\"])"
   ]
  },
  {
   "cell_type": "code",
   "execution_count": 22,
   "id": "handed-brooklyn",
   "metadata": {},
   "outputs": [],
   "source": [
    "df_test[\"Embarked_feature\"] = embarked_encoder.transform(df_test[\"Embarked\"])"
   ]
  },
  {
   "cell_type": "markdown",
   "id": "moved-april",
   "metadata": {},
   "source": [
    "## Extract Cabin"
   ]
  },
  {
   "cell_type": "code",
   "execution_count": 23,
   "id": "wrong-vatican",
   "metadata": {},
   "outputs": [],
   "source": [
    "cabin_encoder = preprocessing.LabelEncoder()"
   ]
  },
  {
   "cell_type": "code",
   "execution_count": 24,
   "id": "continent-dodge",
   "metadata": {},
   "outputs": [],
   "source": [
    "def extract_cabin_type(cabin_text):\n",
    "    if cabin_text:\n",
    "        cabin_type = cabin_text[0]\n",
    "        return cabin_type\n",
    "    else:\n",
    "        return \"U\""
   ]
  },
  {
   "cell_type": "code",
   "execution_count": 25,
   "id": "activated-surname",
   "metadata": {},
   "outputs": [
    {
     "data": {
      "application/vnd.jupyter.widget-view+json": {
       "model_id": "4d36aa0832c645c5b95d1443c192fa60",
       "version_major": 2,
       "version_minor": 0
      },
      "text/plain": [
       "Pandas Apply:   0%|          | 0/50000 [00:00<?, ?it/s]"
      ]
     },
     "metadata": {},
     "output_type": "display_data"
    }
   ],
   "source": [
    "df_train[\"Cabin_type\"] = df_train[\"Cabin\"].fillna(\"U\").swifter.apply(extract_cabin_type)\n"
   ]
  },
  {
   "cell_type": "code",
   "execution_count": 26,
   "id": "mysterious-zoning",
   "metadata": {},
   "outputs": [
    {
     "data": {
      "application/vnd.jupyter.widget-view+json": {
       "model_id": "5fa241e41b95495c8e23993ee4cb8755",
       "version_major": 2,
       "version_minor": 0
      },
      "text/plain": [
       "Pandas Apply:   0%|          | 0/50000 [00:00<?, ?it/s]"
      ]
     },
     "metadata": {},
     "output_type": "display_data"
    }
   ],
   "source": [
    "df_test[\"Cabin_type\"] = df_test[\"Cabin\"].fillna(\"U\").swifter.apply(extract_cabin_type)"
   ]
  },
  {
   "cell_type": "code",
   "execution_count": 27,
   "id": "reliable-heating",
   "metadata": {},
   "outputs": [
    {
     "data": {
      "text/plain": [
       "LabelEncoder()"
      ]
     },
     "execution_count": 27,
     "metadata": {},
     "output_type": "execute_result"
    }
   ],
   "source": [
    "cabin_encoder.fit(list(df_train[\"Cabin_type\"]) + list(df_test[\"Cabin_type\"]))"
   ]
  },
  {
   "cell_type": "code",
   "execution_count": 28,
   "id": "organized-knock",
   "metadata": {},
   "outputs": [],
   "source": [
    "df_train[\"Cabin_type_feature\"] = cabin_encoder.transform(df_train[\"Cabin_type\"])"
   ]
  },
  {
   "cell_type": "code",
   "execution_count": 29,
   "id": "comparative-indian",
   "metadata": {},
   "outputs": [],
   "source": [
    "df_test[\"Cabin_type_feature\"] = cabin_encoder.transform(df_test[\"Cabin_type\"])"
   ]
  },
  {
   "cell_type": "markdown",
   "id": "introductory-produce",
   "metadata": {},
   "source": [
    "## Extract Ticket text"
   ]
  },
  {
   "cell_type": "code",
   "execution_count": 30,
   "id": "convinced-therapy",
   "metadata": {},
   "outputs": [],
   "source": [
    "def extract_text(text):\n",
    "    result = \"\"\n",
    "    if text:\n",
    "        text = str(text)\n",
    "        result = \"\".join(re.findall(\"[a-zA-Z]+\", text))\n",
    "    else:\n",
    "        result = \"NULL\"\n",
    "    if result == \"\":\n",
    "        result = \"NO_TEXT\"\n",
    "    return result"
   ]
  },
  {
   "cell_type": "code",
   "execution_count": 31,
   "id": "accompanied-memorial",
   "metadata": {},
   "outputs": [
    {
     "data": {
      "application/vnd.jupyter.widget-view+json": {
       "model_id": "14f7cb8cc3b7402db65306cae14e2cd5",
       "version_major": 2,
       "version_minor": 0
      },
      "text/plain": [
       "Pandas Apply:   0%|          | 0/50000 [00:00<?, ?it/s]"
      ]
     },
     "metadata": {},
     "output_type": "display_data"
    }
   ],
   "source": [
    "df_train[\"Ticket_type\"] = df_train[\"Ticket\"].fillna(\"UNK\").swifter.apply(extract_text)"
   ]
  },
  {
   "cell_type": "code",
   "execution_count": 32,
   "id": "atlantic-publisher",
   "metadata": {},
   "outputs": [
    {
     "data": {
      "application/vnd.jupyter.widget-view+json": {
       "model_id": "300b35beaed4427693d14d17b21d3feb",
       "version_major": 2,
       "version_minor": 0
      },
      "text/plain": [
       "Pandas Apply:   0%|          | 0/50000 [00:00<?, ?it/s]"
      ]
     },
     "metadata": {},
     "output_type": "display_data"
    }
   ],
   "source": [
    "df_test[\"Ticket_type\"] = df_test[\"Ticket\"].fillna(\"UNK\").swifter.apply(extract_text)"
   ]
  },
  {
   "cell_type": "code",
   "execution_count": 33,
   "id": "decimal-nightlife",
   "metadata": {},
   "outputs": [],
   "source": [
    "ticket_encoder = preprocessing.LabelEncoder()"
   ]
  },
  {
   "cell_type": "code",
   "execution_count": 34,
   "id": "noticed-couple",
   "metadata": {},
   "outputs": [
    {
     "data": {
      "text/plain": [
       "LabelEncoder()"
      ]
     },
     "execution_count": 34,
     "metadata": {},
     "output_type": "execute_result"
    }
   ],
   "source": [
    "ticket_encoder.fit(list(df_train[\"Ticket_type\"]) + list(df_test[\"Ticket_type\"]))"
   ]
  },
  {
   "cell_type": "code",
   "execution_count": 35,
   "id": "configured-destination",
   "metadata": {},
   "outputs": [],
   "source": [
    "df_train[\"Ticket_type_feature\"] = ticket_encoder.transform(df_train[\"Ticket_type\"])"
   ]
  },
  {
   "cell_type": "code",
   "execution_count": 36,
   "id": "weird-beach",
   "metadata": {},
   "outputs": [],
   "source": [
    "df_test[\"Ticket_type_feature\"] = ticket_encoder.transform(df_test[\"Ticket_type\"])"
   ]
  },
  {
   "cell_type": "code",
   "execution_count": null,
   "id": "three-newark",
   "metadata": {},
   "outputs": [],
   "source": []
  },
  {
   "cell_type": "code",
   "execution_count": null,
   "id": "romantic-psychiatry",
   "metadata": {},
   "outputs": [],
   "source": []
  },
  {
   "cell_type": "markdown",
   "id": "suspected-phone",
   "metadata": {},
   "source": [
    "## Choice feature"
   ]
  },
  {
   "cell_type": "code",
   "execution_count": 37,
   "id": "annual-kingston",
   "metadata": {},
   "outputs": [],
   "source": [
    "choice_feature = [\"Sex_feature\", \"Age\", \"Fare\", \"SibSp\", \"Pclass\", \"Embarked_feature\", \"Cabin_type_feature\", \"Ticket_type_feature\", \"Parch\"]"
   ]
  },
  {
   "cell_type": "code",
   "execution_count": 38,
   "id": "macro-constitutional",
   "metadata": {},
   "outputs": [],
   "source": [
    "X = df_train[choice_feature]\n",
    "y = df_train[\"Survived\"]"
   ]
  },
  {
   "cell_type": "code",
   "execution_count": 39,
   "id": "forced-metro",
   "metadata": {},
   "outputs": [],
   "source": [
    "X_test = df_test[choice_feature]\n"
   ]
  },
  {
   "cell_type": "code",
   "execution_count": 40,
   "id": "balanced-click",
   "metadata": {},
   "outputs": [],
   "source": [
    "X_train, X_val, y_train, y_val = train_test_split(X, y, test_size=0.1, random_state=3041975)"
   ]
  },
  {
   "cell_type": "code",
   "execution_count": 41,
   "id": "important-integral",
   "metadata": {},
   "outputs": [],
   "source": [
    "lgb_train_data = lgb.Dataset(data=X_train, label=y_train, categorical_feature=[\"Sex_feature\", \"Embarked_feature\", \"Pclass\", \"Cabin_type_feature\"])"
   ]
  },
  {
   "cell_type": "code",
   "execution_count": 42,
   "id": "insured-component",
   "metadata": {},
   "outputs": [],
   "source": [
    "lgb_val_data = lgb.Dataset(data=X_val, label=y_val, reference=lgb_train_data)"
   ]
  },
  {
   "cell_type": "code",
   "execution_count": 43,
   "id": "fantastic-peace",
   "metadata": {},
   "outputs": [],
   "source": [
    "# lgbm_params = {\n",
    "#     'boosting': 'gbdt',          # dart (drop out trees) often performs better\n",
    "#     'application': 'binary',     # Binary classification\n",
    "#     'learning_rate': 0.02,       # Learning rate, controls size of a gradient descent step\n",
    "#     'min_data_in_leaf': 100,      # Data set is quite small so reduce this a bit\n",
    "#     'feature_fraction': 0.7,     # Proportion of features in each boost, controls overfitting\n",
    "#     'metric': 'auc',  # Area under ROC curve as the evaulation metric,\n",
    "#     'lambda_l1': 5e-05, \n",
    "#     'lambda_l2': 1.35e-08, \n",
    "#     'num_leaves': 216, \n",
    "#     'feature_fraction': 0.7458519562366559, \n",
    "#     'bagging_fraction': 0.7835116194444349, \n",
    "#     'bagging_freq': 2, \n",
    "#     'min_child_samples': 95\n",
    "# }"
   ]
  },
  {
   "cell_type": "code",
   "execution_count": 44,
   "id": "under-protest",
   "metadata": {},
   "outputs": [],
   "source": [
    "lgbm_params = {\n",
    "    'boosting': 'gbdt',          # dart (drop out trees) often performs better\n",
    "    'application': 'binary',     # Binary classification\n",
    "    'learning_rate': 0.001,       # Learning rate, controls size of a gradient descent step\n",
    "    # 'feature_fraction': 0.7,     # Proportion of features in each boost, controls overfitting\n",
    "    'metric': 'auc',  # Area under ROC curve as the evaulation metric,\n",
    "    'lambda_l1': 5e-05, \n",
    "    'lambda_l2': 1.35e-08, \n",
    "    'num_leaves': 216, \n",
    "}"
   ]
  },
  {
   "cell_type": "code",
   "execution_count": 45,
   "id": "earned-automation",
   "metadata": {},
   "outputs": [],
   "source": [
    "# lgbm_params = {\n",
    "#     'boosting': 'gbdt',          # dart (drop out trees) often performs better\n",
    "#     'objective': 'binary',     # Binary classification\n",
    "# }"
   ]
  },
  {
   "cell_type": "code",
   "execution_count": 46,
   "id": "characteristic-webcam",
   "metadata": {},
   "outputs": [],
   "source": [
    "# experiment = neptune.create_experiment(name='LightGBM-training', params=lgbm_params)"
   ]
  },
  {
   "cell_type": "code",
   "execution_count": null,
   "id": "separate-bahamas",
   "metadata": {},
   "outputs": [],
   "source": []
  },
  {
   "cell_type": "code",
   "execution_count": 47,
   "id": "compact-greene",
   "metadata": {},
   "outputs": [
    {
     "name": "stderr",
     "output_type": "stream",
     "text": [
      "/home/tt/miniconda3/envs/ml/lib/python3.8/site-packages/lightgbm/basic.py:1551: UserWarning: Using categorical_feature in Dataset.\n",
      "  warnings.warn('Using categorical_feature in Dataset.')\n",
      "/home/tt/miniconda3/envs/ml/lib/python3.8/site-packages/lightgbm/basic.py:1554: UserWarning: categorical_feature in Dataset is overridden.\n",
      "New categorical_feature is ['Cabin_type_feature', 'Embarked_feature', 'Pclass', 'Sex_feature']\n",
      "  warnings.warn('categorical_feature in Dataset is overridden.\\n'\n",
      "/home/tt/miniconda3/envs/ml/lib/python3.8/site-packages/lightgbm/basic.py:1286: UserWarning: Overriding the parameters from Reference Dataset.\n",
      "  warnings.warn('Overriding the parameters from Reference Dataset.')\n",
      "/home/tt/miniconda3/envs/ml/lib/python3.8/site-packages/lightgbm/basic.py:1098: UserWarning: categorical_column in param dict is overridden.\n",
      "  warnings.warn('{} in param dict is overridden.'.format(cat_alias))\n"
     ]
    },
    {
     "name": "stdout",
     "output_type": "stream",
     "text": [
      "[LightGBM] [Info] Number of positive: 19372, number of negative: 25628\n",
      "[LightGBM] [Warning] Auto-choosing row-wise multi-threading, the overhead of testing was 0.014647 seconds.\n",
      "You can set `force_row_wise=true` to remove the overhead.\n",
      "And if memory is not enough, you can set `force_col_wise=true`.\n",
      "[LightGBM] [Info] Total Bins 454\n",
      "[LightGBM] [Info] Number of data points in the train set: 45000, number of used features: 9\n",
      "[LightGBM] [Info] [binary:BoostFromScore]: pavg=0.430489 -> initscore=-0.279857\n",
      "[LightGBM] [Info] Start training from score -0.279857\n",
      "[500]\ttrain_data's auc: 0.869897\tval_data's auc: 0.847809\n",
      "[1000]\ttrain_data's auc: 0.873825\tval_data's auc: 0.849428\n",
      "[1500]\ttrain_data's auc: 0.877\tval_data's auc: 0.849873\n",
      "[2000]\ttrain_data's auc: 0.880284\tval_data's auc: 0.849854\n",
      "[2500]\ttrain_data's auc: 0.883755\tval_data's auc: 0.849907\n",
      "[3000]\ttrain_data's auc: 0.887487\tval_data's auc: 0.849718\n",
      "[3500]\ttrain_data's auc: 0.891256\tval_data's auc: 0.849364\n",
      "[4000]\ttrain_data's auc: 0.895009\tval_data's auc: 0.848971\n",
      "[4500]\ttrain_data's auc: 0.898775\tval_data's auc: 0.848718\n",
      "[5000]\ttrain_data's auc: 0.902497\tval_data's auc: 0.848294\n"
     ]
    }
   ],
   "source": [
    "num_boost_round = 5000\n",
    "# from neptunecontrib.monitoring.lightgbm import neptune_monitor\n",
    "model = lgb.train(lgbm_params, lgb_train_data, valid_sets = [lgb_train_data, lgb_val_data], valid_names=[\"train_data\", \"val_data\"], verbose_eval=500, num_boost_round=num_boost_round)"
   ]
  },
  {
   "cell_type": "markdown",
   "id": "iraqi-startup",
   "metadata": {},
   "source": [
    "# Evaluation "
   ]
  },
  {
   "cell_type": "code",
   "execution_count": 48,
   "id": "cutting-server",
   "metadata": {},
   "outputs": [],
   "source": [
    "flag = False"
   ]
  },
  {
   "cell_type": "code",
   "execution_count": 49,
   "id": "cultural-parcel",
   "metadata": {},
   "outputs": [],
   "source": [
    "if \"local\" in train_path:\n",
    "    flag = True"
   ]
  },
  {
   "cell_type": "code",
   "execution_count": 50,
   "id": "harmful-documentary",
   "metadata": {},
   "outputs": [
    {
     "data": {
      "text/plain": [
       "True"
      ]
     },
     "execution_count": 50,
     "metadata": {},
     "output_type": "execute_result"
    }
   ],
   "source": [
    "flag"
   ]
  },
  {
   "cell_type": "code",
   "execution_count": 51,
   "id": "tight-diary",
   "metadata": {},
   "outputs": [],
   "source": [
    "y_pred = model.predict(X_test, num_iteration=model.best_iteration)"
   ]
  },
  {
   "cell_type": "code",
   "execution_count": 52,
   "id": "corporate-evaluation",
   "metadata": {},
   "outputs": [],
   "source": [
    "if flag:\n",
    "    y_test = df_test[\"Survived\"]\n",
    "    precision, recall, thresholds = precision_recall_curve(y_test, y_pred)\n",
    "    df_curve = pd.DataFrame({\"precision\": precision, \"recall\": recall})\n",
    "    "
   ]
  },
  {
   "cell_type": "code",
   "execution_count": 53,
   "id": "vital-planning",
   "metadata": {},
   "outputs": [
    {
     "data": {
      "image/png": "[encoded data removed]",
      "text/plain": [
       "<Figure size 432x288 with 1 Axes>"
      ]
     },
     "metadata": {
      "needs_background": "light"
     },
     "output_type": "display_data"
    }
   ],
   "source": [
    "if flag:\n",
    "    sns.lineplot(data=df_curve)"
   ]
  },
  {
   "cell_type": "code",
   "execution_count": 54,
   "id": "needed-pledge",
   "metadata": {},
   "outputs": [],
   "source": [
    "thresholds_meow = [i*0.01 for i in range(1,100)]"
   ]
  },
  {
   "cell_type": "code",
   "execution_count": 55,
   "id": "dress-description",
   "metadata": {},
   "outputs": [
    {
     "data": {
      "image/png": "[encoded data removed]",
      "text/plain": [
       "<Figure size 432x288 with 1 Axes>"
      ]
     },
     "metadata": {
      "needs_background": "light"
     },
     "output_type": "display_data"
    }
   ],
   "source": [
    "if flag: \n",
    "    acc_list = []\n",
    "    for threshold in thresholds_meow:\n",
    "        y_pred_one = [1 if y > threshold else 0 for y in y_pred]\n",
    "        accuracy = accuracy_score(y_test, y_pred_one)\n",
    "        acc_list.append(accuracy)\n",
    "    df_acc = pd.DataFrame({\"threshold\":thresholds_meow, \"accuracy\":acc_list})\n",
    "    ax = sns.lineplot(data=df_acc, x=\"threshold\", y=\"accuracy\")\n",
    "    ax.set_ylim(0, 1)"
   ]
  },
  {
   "cell_type": "code",
   "execution_count": 56,
   "id": "defined-ending",
   "metadata": {},
   "outputs": [
    {
     "name": "stdout",
     "output_type": "stream",
     "text": [
      "Best Acc  0.78072\n",
      "Best threshold  0.52\n"
     ]
    }
   ],
   "source": [
    "if flag:\n",
    "    max_acc = max(acc_list)\n",
    "    max_index = acc_list.index(max_acc)\n",
    "    best_threshold = thresholds_meow[max_index]\n",
    "    print(\"Best Acc \", max_acc)\n",
    "    print(\"Best threshold \", best_threshold)\n",
    "\n"
   ]
  },
  {
   "cell_type": "markdown",
   "id": "exotic-delaware",
   "metadata": {},
   "source": [
    "## Online submission"
   ]
  },
  {
   "cell_type": "code",
   "execution_count": 57,
   "id": "cordless-enzyme",
   "metadata": {},
   "outputs": [],
   "source": [
    "if not flag:\n",
    "    best_threshold = 0.5\n",
    "    y_pred_one = [1 if y > best_threshold else 0 for y in y_pred]\n",
    "    df_submission = pd.DataFrame({\"PassengerId\":df_test[\"PassengerId\"], \"Survived\": y_pred_one})\n",
    "    display(df_submission)\n",
    "    df_submission.to_csv(\"submission.csv\", index=False)"
   ]
  }
 ],
 "metadata": {
  "kernelspec": {
   "display_name": "Python 3",
   "language": "python",
   "name": "python3"
  },
  "language_info": {
   "codemirror_mode": {
    "name": "ipython",
    "version": 3
   },
   "file_extension": ".py",
   "mimetype": "text/x-python",
   "name": "python",
   "nbconvert_exporter": "python",
   "pygments_lexer": "ipython3",
   "version": "3.8.1"
  },
  "neptune": {
   "notebookId": "ca1789f9-9ff7-4ac5-a315-17a6906f852a",
   "projectVersion": 2
  }
 },
 "nbformat": 4,
 "nbformat_minor": 5
}
