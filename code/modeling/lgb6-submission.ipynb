{
 "cells": [
  {
   "cell_type": "code",
   "execution_count": 1,
   "id": "coral-polymer",
   "metadata": {},
   "outputs": [],
   "source": [
    "# Neptune"
   ]
  },
  {
   "cell_type": "code",
   "execution_count": 2,
   "id": "starting-receipt",
   "metadata": {},
   "outputs": [],
   "source": [
    "import os\n",
    "# !pip install swifter"
   ]
  },
  {
   "cell_type": "code",
   "execution_count": 3,
   "id": "incorrect-palestinian",
   "metadata": {},
   "outputs": [],
   "source": [
    "# Path "
   ]
  },
  {
   "cell_type": "code",
   "execution_count": 4,
   "id": "bibliographic-english",
   "metadata": {},
   "outputs": [],
   "source": [
    "train_path = \"../../data/train.csv\"\n",
    "test_path = \"../../data/test.csv\""
   ]
  },
  {
   "cell_type": "code",
   "execution_count": 5,
   "id": "responsible-cargo",
   "metadata": {},
   "outputs": [
    {
     "name": "stdout",
     "output_type": "stream",
     "text": [
      "data\n",
      "../../data/train.csv\n",
      "../../data/test.csv\n"
     ]
    }
   ],
   "source": [
    "print(\"data\")\n",
    "print(train_path)\n",
    "print(test_path)"
   ]
  },
  {
   "cell_type": "code",
   "execution_count": null,
   "id": "suited-campbell",
   "metadata": {},
   "outputs": [],
   "source": []
  },
  {
   "cell_type": "code",
   "execution_count": 6,
   "id": "mysterious-young",
   "metadata": {},
   "outputs": [],
   "source": [
    "# Load data "
   ]
  },
  {
   "cell_type": "code",
   "execution_count": 7,
   "id": "confident-reproduction",
   "metadata": {},
   "outputs": [],
   "source": [
    "import pandas as pd\n",
    "from sklearn.model_selection import train_test_split\n",
    "import lightgbm as lgb\n",
    "from sklearn.metrics import precision_recall_curve, accuracy_score\n",
    "import seaborn as sns\n",
    "from tqdm import tqdm\n",
    "import swifter"
   ]
  },
  {
   "cell_type": "code",
   "execution_count": 8,
   "id": "northern-darkness",
   "metadata": {},
   "outputs": [],
   "source": [
    "import re\n",
    "import numpy as np"
   ]
  },
  {
   "cell_type": "code",
   "execution_count": 9,
   "id": "intelligent-broadcast",
   "metadata": {},
   "outputs": [],
   "source": [
    "df_train = pd.read_csv(train_path)"
   ]
  },
  {
   "cell_type": "code",
   "execution_count": 10,
   "id": "listed-friday",
   "metadata": {},
   "outputs": [
    {
     "data": {
      "text/html": [
       "<div>\n",
       "<style scoped>\n",
       "    .dataframe tbody tr th:only-of-type {\n",
       "        vertical-align: middle;\n",
       "    }\n",
       "\n",
       "    .dataframe tbody tr th {\n",
       "        vertical-align: top;\n",
       "    }\n",
       "\n",
       "    .dataframe thead th {\n",
       "        text-align: right;\n",
       "    }\n",
       "</style>\n",
       "<table border=\"1\" class=\"dataframe\">\n",
       "  <thead>\n",
       "    <tr style=\"text-align: right;\">\n",
       "      <th></th>\n",
       "      <th>PassengerId</th>\n",
       "      <th>Survived</th>\n",
       "      <th>Pclass</th>\n",
       "      <th>Name</th>\n",
       "      <th>Sex</th>\n",
       "      <th>Age</th>\n",
       "      <th>SibSp</th>\n",
       "      <th>Parch</th>\n",
       "      <th>Ticket</th>\n",
       "      <th>Fare</th>\n",
       "      <th>Cabin</th>\n",
       "      <th>Embarked</th>\n",
       "    </tr>\n",
       "  </thead>\n",
       "  <tbody>\n",
       "    <tr>\n",
       "      <th>0</th>\n",
       "      <td>0</td>\n",
       "      <td>1</td>\n",
       "      <td>1</td>\n",
       "      <td>Oconnor, Frankie</td>\n",
       "      <td>male</td>\n",
       "      <td>NaN</td>\n",
       "      <td>2</td>\n",
       "      <td>0</td>\n",
       "      <td>209245</td>\n",
       "      <td>27.14</td>\n",
       "      <td>C12239</td>\n",
       "      <td>S</td>\n",
       "    </tr>\n",
       "    <tr>\n",
       "      <th>1</th>\n",
       "      <td>1</td>\n",
       "      <td>0</td>\n",
       "      <td>3</td>\n",
       "      <td>Bryan, Drew</td>\n",
       "      <td>male</td>\n",
       "      <td>NaN</td>\n",
       "      <td>0</td>\n",
       "      <td>0</td>\n",
       "      <td>27323</td>\n",
       "      <td>13.35</td>\n",
       "      <td>NaN</td>\n",
       "      <td>S</td>\n",
       "    </tr>\n",
       "    <tr>\n",
       "      <th>2</th>\n",
       "      <td>2</td>\n",
       "      <td>0</td>\n",
       "      <td>3</td>\n",
       "      <td>Owens, Kenneth</td>\n",
       "      <td>male</td>\n",
       "      <td>0.33</td>\n",
       "      <td>1</td>\n",
       "      <td>2</td>\n",
       "      <td>CA 457703</td>\n",
       "      <td>71.29</td>\n",
       "      <td>NaN</td>\n",
       "      <td>S</td>\n",
       "    </tr>\n",
       "    <tr>\n",
       "      <th>3</th>\n",
       "      <td>3</td>\n",
       "      <td>0</td>\n",
       "      <td>3</td>\n",
       "      <td>Kramer, James</td>\n",
       "      <td>male</td>\n",
       "      <td>19.00</td>\n",
       "      <td>0</td>\n",
       "      <td>0</td>\n",
       "      <td>A. 10866</td>\n",
       "      <td>13.04</td>\n",
       "      <td>NaN</td>\n",
       "      <td>S</td>\n",
       "    </tr>\n",
       "    <tr>\n",
       "      <th>4</th>\n",
       "      <td>4</td>\n",
       "      <td>1</td>\n",
       "      <td>3</td>\n",
       "      <td>Bond, Michael</td>\n",
       "      <td>male</td>\n",
       "      <td>25.00</td>\n",
       "      <td>0</td>\n",
       "      <td>0</td>\n",
       "      <td>427635</td>\n",
       "      <td>7.76</td>\n",
       "      <td>NaN</td>\n",
       "      <td>S</td>\n",
       "    </tr>\n",
       "  </tbody>\n",
       "</table>\n",
       "</div>"
      ],
      "text/plain": [
       "   PassengerId  Survived  Pclass              Name   Sex    Age  SibSp  Parch  \\\n",
       "0            0         1       1  Oconnor, Frankie  male    NaN      2      0   \n",
       "1            1         0       3       Bryan, Drew  male    NaN      0      0   \n",
       "2            2         0       3    Owens, Kenneth  male   0.33      1      2   \n",
       "3            3         0       3     Kramer, James  male  19.00      0      0   \n",
       "4            4         1       3     Bond, Michael  male  25.00      0      0   \n",
       "\n",
       "      Ticket   Fare   Cabin Embarked  \n",
       "0     209245  27.14  C12239        S  \n",
       "1      27323  13.35     NaN        S  \n",
       "2  CA 457703  71.29     NaN        S  \n",
       "3   A. 10866  13.04     NaN        S  \n",
       "4     427635   7.76     NaN        S  "
      ]
     },
     "execution_count": 10,
     "metadata": {},
     "output_type": "execute_result"
    }
   ],
   "source": [
    "df_train.head()"
   ]
  },
  {
   "cell_type": "code",
   "execution_count": 11,
   "id": "powerful-bhutan",
   "metadata": {},
   "outputs": [
    {
     "data": {
      "text/plain": [
       "PassengerId    100000\n",
       "Survived       100000\n",
       "Pclass         100000\n",
       "Name           100000\n",
       "Sex            100000\n",
       "Age             96708\n",
       "SibSp          100000\n",
       "Parch          100000\n",
       "Ticket          95377\n",
       "Fare            99866\n",
       "Cabin           32134\n",
       "Embarked        99750\n",
       "dtype: int64"
      ]
     },
     "execution_count": 11,
     "metadata": {},
     "output_type": "execute_result"
    }
   ],
   "source": [
    "df_train.count()"
   ]
  },
  {
   "cell_type": "code",
   "execution_count": 12,
   "id": "cathedral-persian",
   "metadata": {},
   "outputs": [],
   "source": [
    "df_test = pd.read_csv(test_path)"
   ]
  },
  {
   "cell_type": "code",
   "execution_count": 13,
   "id": "static-ordinance",
   "metadata": {},
   "outputs": [
    {
     "data": {
      "text/html": [
       "<div>\n",
       "<style scoped>\n",
       "    .dataframe tbody tr th:only-of-type {\n",
       "        vertical-align: middle;\n",
       "    }\n",
       "\n",
       "    .dataframe tbody tr th {\n",
       "        vertical-align: top;\n",
       "    }\n",
       "\n",
       "    .dataframe thead th {\n",
       "        text-align: right;\n",
       "    }\n",
       "</style>\n",
       "<table border=\"1\" class=\"dataframe\">\n",
       "  <thead>\n",
       "    <tr style=\"text-align: right;\">\n",
       "      <th></th>\n",
       "      <th>PassengerId</th>\n",
       "      <th>Pclass</th>\n",
       "      <th>Name</th>\n",
       "      <th>Sex</th>\n",
       "      <th>Age</th>\n",
       "      <th>SibSp</th>\n",
       "      <th>Parch</th>\n",
       "      <th>Ticket</th>\n",
       "      <th>Fare</th>\n",
       "      <th>Cabin</th>\n",
       "      <th>Embarked</th>\n",
       "    </tr>\n",
       "  </thead>\n",
       "  <tbody>\n",
       "    <tr>\n",
       "      <th>0</th>\n",
       "      <td>100000</td>\n",
       "      <td>3</td>\n",
       "      <td>Holliday, Daniel</td>\n",
       "      <td>male</td>\n",
       "      <td>19.0</td>\n",
       "      <td>0</td>\n",
       "      <td>0</td>\n",
       "      <td>24745</td>\n",
       "      <td>63.01</td>\n",
       "      <td>NaN</td>\n",
       "      <td>S</td>\n",
       "    </tr>\n",
       "    <tr>\n",
       "      <th>1</th>\n",
       "      <td>100001</td>\n",
       "      <td>3</td>\n",
       "      <td>Nguyen, Lorraine</td>\n",
       "      <td>female</td>\n",
       "      <td>53.0</td>\n",
       "      <td>0</td>\n",
       "      <td>0</td>\n",
       "      <td>13264</td>\n",
       "      <td>5.81</td>\n",
       "      <td>NaN</td>\n",
       "      <td>S</td>\n",
       "    </tr>\n",
       "    <tr>\n",
       "      <th>2</th>\n",
       "      <td>100002</td>\n",
       "      <td>1</td>\n",
       "      <td>Harris, Heather</td>\n",
       "      <td>female</td>\n",
       "      <td>19.0</td>\n",
       "      <td>0</td>\n",
       "      <td>0</td>\n",
       "      <td>25990</td>\n",
       "      <td>38.91</td>\n",
       "      <td>B15315</td>\n",
       "      <td>C</td>\n",
       "    </tr>\n",
       "    <tr>\n",
       "      <th>3</th>\n",
       "      <td>100003</td>\n",
       "      <td>2</td>\n",
       "      <td>Larsen, Eric</td>\n",
       "      <td>male</td>\n",
       "      <td>25.0</td>\n",
       "      <td>0</td>\n",
       "      <td>0</td>\n",
       "      <td>314011</td>\n",
       "      <td>12.93</td>\n",
       "      <td>NaN</td>\n",
       "      <td>S</td>\n",
       "    </tr>\n",
       "    <tr>\n",
       "      <th>4</th>\n",
       "      <td>100004</td>\n",
       "      <td>1</td>\n",
       "      <td>Cleary, Sarah</td>\n",
       "      <td>female</td>\n",
       "      <td>17.0</td>\n",
       "      <td>0</td>\n",
       "      <td>2</td>\n",
       "      <td>26203</td>\n",
       "      <td>26.89</td>\n",
       "      <td>B22515</td>\n",
       "      <td>C</td>\n",
       "    </tr>\n",
       "  </tbody>\n",
       "</table>\n",
       "</div>"
      ],
      "text/plain": [
       "   PassengerId  Pclass              Name     Sex   Age  SibSp  Parch  Ticket  \\\n",
       "0       100000       3  Holliday, Daniel    male  19.0      0      0   24745   \n",
       "1       100001       3  Nguyen, Lorraine  female  53.0      0      0   13264   \n",
       "2       100002       1   Harris, Heather  female  19.0      0      0   25990   \n",
       "3       100003       2      Larsen, Eric    male  25.0      0      0  314011   \n",
       "4       100004       1     Cleary, Sarah  female  17.0      0      2   26203   \n",
       "\n",
       "    Fare   Cabin Embarked  \n",
       "0  63.01     NaN        S  \n",
       "1   5.81     NaN        S  \n",
       "2  38.91  B15315        C  \n",
       "3  12.93     NaN        S  \n",
       "4  26.89  B22515        C  "
      ]
     },
     "execution_count": 13,
     "metadata": {},
     "output_type": "execute_result"
    }
   ],
   "source": [
    "df_test.head()"
   ]
  },
  {
   "cell_type": "markdown",
   "id": "future-telescope",
   "metadata": {},
   "source": [
    "# Feature Extraction "
   ]
  },
  {
   "cell_type": "code",
   "execution_count": 14,
   "id": "reserved-steam",
   "metadata": {},
   "outputs": [],
   "source": [
    "from sklearn import preprocessing"
   ]
  },
  {
   "cell_type": "markdown",
   "id": "measured-america",
   "metadata": {},
   "source": [
    "## Encoding Sex"
   ]
  },
  {
   "cell_type": "code",
   "execution_count": 15,
   "id": "optional-journey",
   "metadata": {},
   "outputs": [],
   "source": [
    "sex_encoder = preprocessing.LabelEncoder()"
   ]
  },
  {
   "cell_type": "code",
   "execution_count": 16,
   "id": "mature-browse",
   "metadata": {},
   "outputs": [
    {
     "data": {
      "text/plain": [
       "LabelEncoder()"
      ]
     },
     "execution_count": 16,
     "metadata": {},
     "output_type": "execute_result"
    }
   ],
   "source": [
    "sex_encoder.fit(list(df_train[\"Sex\"]) + list(df_test[\"Sex\"]))"
   ]
  },
  {
   "cell_type": "code",
   "execution_count": 17,
   "id": "amazing-clerk",
   "metadata": {},
   "outputs": [],
   "source": [
    "df_train[\"Sex_feature\"] = sex_encoder.transform(df_train[\"Sex\"])"
   ]
  },
  {
   "cell_type": "code",
   "execution_count": 18,
   "id": "adjusted-detroit",
   "metadata": {},
   "outputs": [],
   "source": [
    "df_test[\"Sex_feature\"] = sex_encoder.transform(df_test[\"Sex\"])"
   ]
  },
  {
   "cell_type": "markdown",
   "id": "textile-screw",
   "metadata": {},
   "source": [
    "## Encoding Embarked"
   ]
  },
  {
   "cell_type": "code",
   "execution_count": 19,
   "id": "imposed-residence",
   "metadata": {},
   "outputs": [],
   "source": [
    "embarked_encoder = preprocessing.LabelEncoder()\n",
    "df_train[\"Embarked\"] = df_train[\"Embarked\"].fillna(\"UNK\")\n",
    "df_test[\"Embarked\"] = df_test[\"Embarked\"].fillna(\"UNK\")"
   ]
  },
  {
   "cell_type": "code",
   "execution_count": 20,
   "id": "rocky-developer",
   "metadata": {},
   "outputs": [
    {
     "data": {
      "text/plain": [
       "LabelEncoder()"
      ]
     },
     "execution_count": 20,
     "metadata": {},
     "output_type": "execute_result"
    }
   ],
   "source": [
    "embarked_encoder.fit(list(df_train[\"Embarked\"]) + list(df_test[\"Embarked\"]))"
   ]
  },
  {
   "cell_type": "code",
   "execution_count": 21,
   "id": "revised-tribune",
   "metadata": {},
   "outputs": [],
   "source": [
    "df_train[\"Embarked_feature\"] = embarked_encoder.transform(df_train[\"Embarked\"])"
   ]
  },
  {
   "cell_type": "code",
   "execution_count": 22,
   "id": "random-peripheral",
   "metadata": {},
   "outputs": [],
   "source": [
    "df_test[\"Embarked_feature\"] = embarked_encoder.transform(df_test[\"Embarked\"])"
   ]
  },
  {
   "cell_type": "markdown",
   "id": "steady-paragraph",
   "metadata": {},
   "source": [
    "## Extract Cabin"
   ]
  },
  {
   "cell_type": "code",
   "execution_count": 23,
   "id": "insured-suspension",
   "metadata": {},
   "outputs": [],
   "source": [
    "cabin_encoder = preprocessing.LabelEncoder()"
   ]
  },
  {
   "cell_type": "code",
   "execution_count": 24,
   "id": "small-horror",
   "metadata": {},
   "outputs": [],
   "source": [
    "def extract_cabin_type(cabin_text):\n",
    "    if cabin_text:\n",
    "        cabin_type = cabin_text[0]\n",
    "        return cabin_type\n",
    "    else:\n",
    "        return \"U\""
   ]
  },
  {
   "cell_type": "code",
   "execution_count": 25,
   "id": "encouraging-reception",
   "metadata": {},
   "outputs": [
    {
     "data": {
      "application/vnd.jupyter.widget-view+json": {
       "model_id": "851fb4555d7245999b33fff357f39797",
       "version_major": 2,
       "version_minor": 0
      },
      "text/plain": [
       "Pandas Apply:   0%|          | 0/100000 [00:00<?, ?it/s]"
      ]
     },
     "metadata": {},
     "output_type": "display_data"
    }
   ],
   "source": [
    "df_train[\"Cabin_type\"] = df_train[\"Cabin\"].fillna(\"U\").swifter.apply(extract_cabin_type)\n"
   ]
  },
  {
   "cell_type": "code",
   "execution_count": 26,
   "id": "possible-norfolk",
   "metadata": {},
   "outputs": [
    {
     "data": {
      "application/vnd.jupyter.widget-view+json": {
       "model_id": "eecdadab34d7444cb8243868f4ee9a15",
       "version_major": 2,
       "version_minor": 0
      },
      "text/plain": [
       "Pandas Apply:   0%|          | 0/100000 [00:00<?, ?it/s]"
      ]
     },
     "metadata": {},
     "output_type": "display_data"
    }
   ],
   "source": [
    "df_test[\"Cabin_type\"] = df_test[\"Cabin\"].fillna(\"U\").swifter.apply(extract_cabin_type)"
   ]
  },
  {
   "cell_type": "code",
   "execution_count": 27,
   "id": "racial-plant",
   "metadata": {},
   "outputs": [
    {
     "data": {
      "text/plain": [
       "LabelEncoder()"
      ]
     },
     "execution_count": 27,
     "metadata": {},
     "output_type": "execute_result"
    }
   ],
   "source": [
    "cabin_encoder.fit(list(df_train[\"Cabin_type\"]) + list(df_test[\"Cabin_type\"]))"
   ]
  },
  {
   "cell_type": "code",
   "execution_count": 28,
   "id": "alone-humanity",
   "metadata": {},
   "outputs": [],
   "source": [
    "df_train[\"Cabin_type_feature\"] = cabin_encoder.transform(df_train[\"Cabin_type\"])"
   ]
  },
  {
   "cell_type": "code",
   "execution_count": 29,
   "id": "vertical-denmark",
   "metadata": {},
   "outputs": [],
   "source": [
    "df_test[\"Cabin_type_feature\"] = cabin_encoder.transform(df_test[\"Cabin_type\"])"
   ]
  },
  {
   "cell_type": "code",
   "execution_count": 30,
   "id": "acting-standing",
   "metadata": {},
   "outputs": [
    {
     "data": {
      "text/plain": [
       "16"
      ]
     },
     "execution_count": 30,
     "metadata": {},
     "output_type": "execute_result"
    }
   ],
   "source": [
    "len(df_train.columns)"
   ]
  },
  {
   "cell_type": "markdown",
   "id": "dietary-consequence",
   "metadata": {},
   "source": [
    "## Extract Ticket text"
   ]
  },
  {
   "cell_type": "code",
   "execution_count": 31,
   "id": "violent-brunswick",
   "metadata": {},
   "outputs": [],
   "source": [
    "def extract_text(text):\n",
    "    result = \"\"\n",
    "    if text:\n",
    "        text = str(text)\n",
    "        result = \"\".join(re.findall(\"[a-zA-Z]+\", text))\n",
    "    else:\n",
    "        result = \"NULL\"\n",
    "    if result == \"\":\n",
    "        result = \"NO_TEXT\"\n",
    "    return result"
   ]
  },
  {
   "cell_type": "code",
   "execution_count": 32,
   "id": "particular-stress",
   "metadata": {},
   "outputs": [
    {
     "data": {
      "application/vnd.jupyter.widget-view+json": {
       "model_id": "c12f4f03f33e4d6db828ae068b035ce3",
       "version_major": 2,
       "version_minor": 0
      },
      "text/plain": [
       "Pandas Apply:   0%|          | 0/100000 [00:00<?, ?it/s]"
      ]
     },
     "metadata": {},
     "output_type": "display_data"
    }
   ],
   "source": [
    "df_train[\"Ticket_type\"] = df_train[\"Ticket\"].fillna(\"UNK\").swifter.apply(extract_text)"
   ]
  },
  {
   "cell_type": "code",
   "execution_count": 33,
   "id": "small-month",
   "metadata": {},
   "outputs": [
    {
     "data": {
      "application/vnd.jupyter.widget-view+json": {
       "model_id": "cd23d26307044aa5a4a24b4231106827",
       "version_major": 2,
       "version_minor": 0
      },
      "text/plain": [
       "Pandas Apply:   0%|          | 0/100000 [00:00<?, ?it/s]"
      ]
     },
     "metadata": {},
     "output_type": "display_data"
    }
   ],
   "source": [
    "df_test[\"Ticket_type\"] = df_test[\"Ticket\"].fillna(\"UNK\").swifter.apply(extract_text)"
   ]
  },
  {
   "cell_type": "code",
   "execution_count": 34,
   "id": "funny-christmas",
   "metadata": {},
   "outputs": [],
   "source": [
    "ticket_encoder = preprocessing.LabelEncoder()"
   ]
  },
  {
   "cell_type": "code",
   "execution_count": 35,
   "id": "occupied-dating",
   "metadata": {},
   "outputs": [
    {
     "data": {
      "text/plain": [
       "LabelEncoder()"
      ]
     },
     "execution_count": 35,
     "metadata": {},
     "output_type": "execute_result"
    }
   ],
   "source": [
    "ticket_encoder.fit(list(df_train[\"Ticket_type\"]) + list(df_test[\"Ticket_type\"]))"
   ]
  },
  {
   "cell_type": "code",
   "execution_count": 36,
   "id": "velvet-legislature",
   "metadata": {},
   "outputs": [],
   "source": [
    "df_train[\"Ticket_type_feature\"] = ticket_encoder.transform(df_train[\"Ticket_type\"])"
   ]
  },
  {
   "cell_type": "code",
   "execution_count": 37,
   "id": "lightweight-operation",
   "metadata": {},
   "outputs": [],
   "source": [
    "df_test[\"Ticket_type_feature\"] = ticket_encoder.transform(df_test[\"Ticket_type\"])"
   ]
  },
  {
   "cell_type": "markdown",
   "id": "behind-trigger",
   "metadata": {},
   "source": [
    "## Family feature "
   ]
  },
  {
   "cell_type": "markdown",
   "id": "lucky-disclosure",
   "metadata": {},
   "source": [
    "### Family size "
   ]
  },
  {
   "cell_type": "code",
   "execution_count": 38,
   "id": "civilian-distribution",
   "metadata": {},
   "outputs": [],
   "source": [
    "def make_family_size(df):\n",
    "    df[\"family_size\"] = df[\"SibSp\"] + df[\"Parch\"]\n",
    "    return df"
   ]
  },
  {
   "cell_type": "code",
   "execution_count": 39,
   "id": "apart-variety",
   "metadata": {},
   "outputs": [],
   "source": [
    "df_train = make_family_size(df_train)\n",
    "df_test = make_family_size(df_test)"
   ]
  },
  {
   "cell_type": "code",
   "execution_count": 40,
   "id": "palestinian-convenience",
   "metadata": {},
   "outputs": [],
   "source": [
    "# df_test[\"SibSp\"] > df_test[\"Parch\"]"
   ]
  },
  {
   "cell_type": "markdown",
   "id": "precise-smart",
   "metadata": {},
   "source": [
    "### Multi-generationA"
   ]
  },
  {
   "cell_type": "code",
   "execution_count": null,
   "id": "primary-heavy",
   "metadata": {},
   "outputs": [],
   "source": []
  },
  {
   "cell_type": "code",
   "execution_count": 41,
   "id": "assisted-campus",
   "metadata": {},
   "outputs": [],
   "source": [
    "def make_multi_gen_feature(df):\n",
    "    df[\"multigen\"] = np.where((df[\"SibSp\"] > 0) & (df[\"Parch\"] > 0), 1, 0)\n",
    "    return df"
   ]
  },
  {
   "cell_type": "code",
   "execution_count": 42,
   "id": "attached-florence",
   "metadata": {},
   "outputs": [],
   "source": [
    "df_train = make_multi_gen_feature(df_train)\n",
    "df_test = make_multi_gen_feature(df_test)"
   ]
  },
  {
   "cell_type": "code",
   "execution_count": null,
   "id": "pleased-mercy",
   "metadata": {},
   "outputs": [],
   "source": []
  },
  {
   "cell_type": "markdown",
   "id": "functioning-success",
   "metadata": {},
   "source": [
    "### solo"
   ]
  },
  {
   "cell_type": "code",
   "execution_count": 43,
   "id": "silver-oxford",
   "metadata": {},
   "outputs": [],
   "source": [
    "def make_go_solo(df):\n",
    "    df[\"solo\"] = np.where((df[\"SibSp\"] == 0) & (df[\"Parch\"] == 0), 1, 0)\n",
    "    return df"
   ]
  },
  {
   "cell_type": "code",
   "execution_count": 44,
   "id": "previous-blind",
   "metadata": {},
   "outputs": [],
   "source": [
    "df_train = make_go_solo(df_train)\n",
    "df_test = make_go_solo(df_test)"
   ]
  },
  {
   "cell_type": "markdown",
   "id": "together-avenue",
   "metadata": {},
   "source": [
    "## Choice feature"
   ]
  },
  {
   "cell_type": "code",
   "execution_count": 45,
   "id": "raising-rental",
   "metadata": {},
   "outputs": [],
   "source": [
    "choice_feature = [\"Sex_feature\", \"Age\", \"Fare\", \"SibSp\", \"Pclass\", \"Embarked_feature\", \"Cabin_type_feature\", \"Ticket_type_feature\", \"Parch\", \"family_size\", \"multigen\", \"solo\"]"
   ]
  },
  {
   "cell_type": "code",
   "execution_count": 46,
   "id": "middle-departure",
   "metadata": {},
   "outputs": [],
   "source": [
    "X = df_train[choice_feature]\n",
    "y = df_train[\"Survived\"]"
   ]
  },
  {
   "cell_type": "code",
   "execution_count": 47,
   "id": "healthy-setting",
   "metadata": {},
   "outputs": [],
   "source": [
    "# len(X.columns)"
   ]
  },
  {
   "cell_type": "code",
   "execution_count": 48,
   "id": "empty-manchester",
   "metadata": {},
   "outputs": [],
   "source": [
    "X_test = df_test[choice_feature]\n"
   ]
  },
  {
   "cell_type": "code",
   "execution_count": 49,
   "id": "fluid-greensboro",
   "metadata": {},
   "outputs": [],
   "source": [
    "X_train, X_val, y_train, y_val = train_test_split(X, y, test_size=0.1, random_state=3041975)"
   ]
  },
  {
   "cell_type": "code",
   "execution_count": 50,
   "id": "seasonal-progress",
   "metadata": {},
   "outputs": [],
   "source": [
    "lgb_train_data = lgb.Dataset(data=X_train, label=y_train, categorical_feature=[\"Sex_feature\", \"Embarked_feature\", \"Pclass\", \"Cabin_type_feature\", \"multigen\", \"solo\"])"
   ]
  },
  {
   "cell_type": "code",
   "execution_count": 51,
   "id": "protected-enhancement",
   "metadata": {},
   "outputs": [],
   "source": [
    "lgb_val_data = lgb.Dataset(data=X_val, label=y_val, reference=lgb_train_data)"
   ]
  },
  {
   "cell_type": "code",
   "execution_count": 52,
   "id": "aquatic-diana",
   "metadata": {},
   "outputs": [],
   "source": [
    "# lgbm_params = {\n",
    "#     'boosting': 'gbdt',          # dart (drop out trees) often performs better\n",
    "#     'application': 'binary',     # Binary classification\n",
    "#     'learning_rate': 0.02,       # Learning rate, controls size of a gradient descent step\n",
    "#     'min_data_in_leaf': 100,      # Data set is quite small so reduce this a bit\n",
    "#     'feature_fraction': 0.7,     # Proportion of features in each boost, controls overfitting\n",
    "#     'metric': 'auc',  # Area under ROC curve as the evaulation metric,\n",
    "#     'lambda_l1': 5e-05, \n",
    "#     'lambda_l2': 1.35e-08, \n",
    "#     'num_leaves': 216, \n",
    "#     'feature_fraction': 0.7458519562366559, \n",
    "#     'bagging_fraction': 0.7835116194444349, \n",
    "#     'bagging_freq': 2, \n",
    "#     'min_child_samples': 95\n",
    "# }"
   ]
  },
  {
   "cell_type": "code",
   "execution_count": 53,
   "id": "weird-purpose",
   "metadata": {},
   "outputs": [],
   "source": [
    "lgbm_params = {\n",
    "    'boosting': 'gbdt',          # dart (drop out trees) often performs better\n",
    "    'application': 'binary',     # Binary classification\n",
    "    'learning_rate': 0.001,       # Learning rate, controls size of a gradient descent step\n",
    "    # 'feature_fraction': 0.7,     # Proportion of features in each boost, controls overfitting\n",
    "    'metric': 'auc',  # Area under ROC curve as the evaulation metric,\n",
    "    'lambda_l1': 5e-05, \n",
    "    'lambda_l2': 1.35e-08, \n",
    "    'num_leaves': 216, \n",
    "}"
   ]
  },
  {
   "cell_type": "code",
   "execution_count": 54,
   "id": "leading-amber",
   "metadata": {},
   "outputs": [],
   "source": [
    "lgbm_params = {\n",
    "    'boosting': 'gbdt',          # dart (drop out trees) often performs better\n",
    "    'application': 'binary',     # Binary classification\n",
    "    'learning_rate': 0.001,       # Learning rate, controls size of a gradient descent step\n",
    "    # 'feature_fraction': 0.9,     # Proportion of features in each boost, controls overfitting\n",
    "    'bagging_fraction': 0.6,\n",
    "    'bagging_freq': 2, \n",
    "    'metric': 'auc',  # Area under ROC curve as the evaulation metric,\n",
    "    'lambda_l1': 5e-05, \n",
    "    'lambda_l2': 1.35e-08, \n",
    "    'num_leaves': 250, \n",
    "    # 'min_data_in_leaf':100\n",
    "}"
   ]
  },
  {
   "cell_type": "code",
   "execution_count": 55,
   "id": "swedish-estimate",
   "metadata": {},
   "outputs": [],
   "source": [
    "# lgbm_params = {\n",
    "#     'boosting': 'gbdt',          # dart (drop out trees) often performs better\n",
    "#     'objective': 'binary',     # Binary classification\n",
    "# }"
   ]
  },
  {
   "cell_type": "code",
   "execution_count": 56,
   "id": "challenging-citizen",
   "metadata": {},
   "outputs": [],
   "source": [
    "# experiment = neptune.create_experiment(name='LightGBM-training', params=lgbm_params)"
   ]
  },
  {
   "cell_type": "code",
   "execution_count": null,
   "id": "alive-newspaper",
   "metadata": {},
   "outputs": [],
   "source": []
  },
  {
   "cell_type": "code",
   "execution_count": 57,
   "id": "protecting-window",
   "metadata": {},
   "outputs": [
    {
     "name": "stderr",
     "output_type": "stream",
     "text": [
      "/home/tt/miniconda3/envs/ml/lib/python3.8/site-packages/lightgbm/basic.py:1551: UserWarning: Using categorical_feature in Dataset.\n",
      "  warnings.warn('Using categorical_feature in Dataset.')\n",
      "/home/tt/miniconda3/envs/ml/lib/python3.8/site-packages/lightgbm/basic.py:1554: UserWarning: categorical_feature in Dataset is overridden.\n",
      "New categorical_feature is ['Cabin_type_feature', 'Embarked_feature', 'Pclass', 'Sex_feature', 'multigen', 'solo']\n",
      "  warnings.warn('categorical_feature in Dataset is overridden.\\n'\n",
      "/home/tt/miniconda3/envs/ml/lib/python3.8/site-packages/lightgbm/basic.py:1286: UserWarning: Overriding the parameters from Reference Dataset.\n",
      "  warnings.warn('Overriding the parameters from Reference Dataset.')\n",
      "/home/tt/miniconda3/envs/ml/lib/python3.8/site-packages/lightgbm/basic.py:1098: UserWarning: categorical_column in param dict is overridden.\n",
      "  warnings.warn('{} in param dict is overridden.'.format(cat_alias))\n"
     ]
    },
    {
     "name": "stdout",
     "output_type": "stream",
     "text": [
      "[LightGBM] [Info] Number of positive: 38563, number of negative: 51437\n",
      "[LightGBM] [Warning] Auto-choosing row-wise multi-threading, the overhead of testing was 0.004597 seconds.\n",
      "You can set `force_row_wise=true` to remove the overhead.\n",
      "And if memory is not enough, you can set `force_col_wise=true`.\n",
      "[LightGBM] [Info] Total Bins 501\n",
      "[LightGBM] [Info] Number of data points in the train set: 90000, number of used features: 12\n",
      "[LightGBM] [Info] [binary:BoostFromScore]: pavg=0.428478 -> initscore=-0.288064\n",
      "[LightGBM] [Info] Start training from score -0.288064\n",
      "Training until validation scores don't improve for 500 rounds\n",
      "[500]\ttrain_data's auc: 0.865585\tval_data's auc: 0.852492\n",
      "[1000]\ttrain_data's auc: 0.867817\tval_data's auc: 0.85293\n",
      "[1500]\ttrain_data's auc: 0.870112\tval_data's auc: 0.853281\n",
      "[2000]\ttrain_data's auc: 0.872439\tval_data's auc: 0.853452\n",
      "[2500]\ttrain_data's auc: 0.874904\tval_data's auc: 0.853459\n",
      "Early stopping, best iteration is:\n",
      "[2189]\ttrain_data's auc: 0.873365\tval_data's auc: 0.853475\n"
     ]
    }
   ],
   "source": [
    "num_boost_round = 7000\n",
    "# from neptunecontrib.monitoring.lightgbm import neptune_monitor\n",
    "model = lgb.train(lgbm_params, lgb_train_data, valid_sets = [lgb_train_data, lgb_val_data], valid_names=[\"train_data\", \"val_data\"], verbose_eval=500, num_boost_round=num_boost_round, early_stopping_rounds=500)"
   ]
  },
  {
   "cell_type": "markdown",
   "id": "charged-groove",
   "metadata": {},
   "source": [
    "# Evaluation "
   ]
  },
  {
   "cell_type": "code",
   "execution_count": 58,
   "id": "experimental-incident",
   "metadata": {},
   "outputs": [],
   "source": [
    "flag = False"
   ]
  },
  {
   "cell_type": "code",
   "execution_count": 59,
   "id": "cooperative-willow",
   "metadata": {},
   "outputs": [],
   "source": [
    "if \"local\" in train_path:\n",
    "    flag = True"
   ]
  },
  {
   "cell_type": "code",
   "execution_count": 60,
   "id": "revolutionary-legend",
   "metadata": {},
   "outputs": [
    {
     "data": {
      "text/plain": [
       "False"
      ]
     },
     "execution_count": 60,
     "metadata": {},
     "output_type": "execute_result"
    }
   ],
   "source": [
    "flag"
   ]
  },
  {
   "cell_type": "code",
   "execution_count": 61,
   "id": "committed-donna",
   "metadata": {},
   "outputs": [],
   "source": [
    "y_pred = model.predict(X_test, num_iteration=model.best_iteration)"
   ]
  },
  {
   "cell_type": "code",
   "execution_count": 62,
   "id": "atlantic-superior",
   "metadata": {},
   "outputs": [],
   "source": [
    "# y_pred = model.predict(X_test)"
   ]
  },
  {
   "cell_type": "code",
   "execution_count": 63,
   "id": "ready-complaint",
   "metadata": {},
   "outputs": [
    {
     "name": "stdout",
     "output_type": "stream",
     "text": [
      "2189\n"
     ]
    }
   ],
   "source": [
    "print(model.best_iteration)"
   ]
  },
  {
   "cell_type": "code",
   "execution_count": 64,
   "id": "verified-basis",
   "metadata": {},
   "outputs": [],
   "source": [
    "if flag:\n",
    "    y_test = df_test[\"Survived\"]\n",
    "    precision, recall, thresholds = precision_recall_curve(y_test, y_pred)\n",
    "    df_curve = pd.DataFrame({\"precision\": precision, \"recall\": recall})\n",
    "    "
   ]
  },
  {
   "cell_type": "code",
   "execution_count": 65,
   "id": "compact-freedom",
   "metadata": {},
   "outputs": [],
   "source": [
    "if flag:\n",
    "    sns.lineplot(data=df_curve)"
   ]
  },
  {
   "cell_type": "code",
   "execution_count": 66,
   "id": "ideal-uniform",
   "metadata": {},
   "outputs": [],
   "source": [
    "thresholds_meow = [i*0.01 for i in range(1,100)]"
   ]
  },
  {
   "cell_type": "code",
   "execution_count": 67,
   "id": "tested-deficit",
   "metadata": {},
   "outputs": [],
   "source": [
    "if flag: \n",
    "    acc_list = []\n",
    "    for threshold in thresholds_meow:\n",
    "        y_pred_one = [1 if y > threshold else 0 for y in y_pred]\n",
    "        accuracy = accuracy_score(y_test, y_pred_one)\n",
    "        acc_list.append(accuracy)\n",
    "    df_acc = pd.DataFrame({\"threshold\":thresholds_meow, \"accuracy\":acc_list})\n",
    "    ax = sns.lineplot(data=df_acc, x=\"threshold\", y=\"accuracy\")\n",
    "    ax.set_ylim(0, 1)"
   ]
  },
  {
   "cell_type": "code",
   "execution_count": 68,
   "id": "sophisticated-intensity",
   "metadata": {},
   "outputs": [],
   "source": [
    "if flag:\n",
    "    max_acc = max(acc_list)\n",
    "    max_index = acc_list.index(max_acc)\n",
    "    best_threshold = thresholds_meow[max_index]\n",
    "    print(\"Best Acc \", max_acc)\n",
    "    print(\"Best threshold \", best_threshold)\n",
    "\n"
   ]
  },
  {
   "cell_type": "markdown",
   "id": "driven-carolina",
   "metadata": {},
   "source": [
    "## Online submission"
   ]
  },
  {
   "cell_type": "code",
   "execution_count": 70,
   "id": "cutting-problem",
   "metadata": {},
   "outputs": [
    {
     "data": {
      "text/html": [
       "<div>\n",
       "<style scoped>\n",
       "    .dataframe tbody tr th:only-of-type {\n",
       "        vertical-align: middle;\n",
       "    }\n",
       "\n",
       "    .dataframe tbody tr th {\n",
       "        vertical-align: top;\n",
       "    }\n",
       "\n",
       "    .dataframe thead th {\n",
       "        text-align: right;\n",
       "    }\n",
       "</style>\n",
       "<table border=\"1\" class=\"dataframe\">\n",
       "  <thead>\n",
       "    <tr style=\"text-align: right;\">\n",
       "      <th></th>\n",
       "      <th>PassengerId</th>\n",
       "      <th>Survived</th>\n",
       "    </tr>\n",
       "  </thead>\n",
       "  <tbody>\n",
       "    <tr>\n",
       "      <th>0</th>\n",
       "      <td>100000</td>\n",
       "      <td>0</td>\n",
       "    </tr>\n",
       "    <tr>\n",
       "      <th>1</th>\n",
       "      <td>100001</td>\n",
       "      <td>0</td>\n",
       "    </tr>\n",
       "    <tr>\n",
       "      <th>2</th>\n",
       "      <td>100002</td>\n",
       "      <td>1</td>\n",
       "    </tr>\n",
       "    <tr>\n",
       "      <th>3</th>\n",
       "      <td>100003</td>\n",
       "      <td>0</td>\n",
       "    </tr>\n",
       "    <tr>\n",
       "      <th>4</th>\n",
       "      <td>100004</td>\n",
       "      <td>1</td>\n",
       "    </tr>\n",
       "    <tr>\n",
       "      <th>...</th>\n",
       "      <td>...</td>\n",
       "      <td>...</td>\n",
       "    </tr>\n",
       "    <tr>\n",
       "      <th>99995</th>\n",
       "      <td>199995</td>\n",
       "      <td>1</td>\n",
       "    </tr>\n",
       "    <tr>\n",
       "      <th>99996</th>\n",
       "      <td>199996</td>\n",
       "      <td>0</td>\n",
       "    </tr>\n",
       "    <tr>\n",
       "      <th>99997</th>\n",
       "      <td>199997</td>\n",
       "      <td>0</td>\n",
       "    </tr>\n",
       "    <tr>\n",
       "      <th>99998</th>\n",
       "      <td>199998</td>\n",
       "      <td>1</td>\n",
       "    </tr>\n",
       "    <tr>\n",
       "      <th>99999</th>\n",
       "      <td>199999</td>\n",
       "      <td>1</td>\n",
       "    </tr>\n",
       "  </tbody>\n",
       "</table>\n",
       "<p>100000 rows × 2 columns</p>\n",
       "</div>"
      ],
      "text/plain": [
       "       PassengerId  Survived\n",
       "0           100000         0\n",
       "1           100001         0\n",
       "2           100002         1\n",
       "3           100003         0\n",
       "4           100004         1\n",
       "...            ...       ...\n",
       "99995       199995         1\n",
       "99996       199996         0\n",
       "99997       199997         0\n",
       "99998       199998         1\n",
       "99999       199999         1\n",
       "\n",
       "[100000 rows x 2 columns]"
      ]
     },
     "metadata": {},
     "output_type": "display_data"
    }
   ],
   "source": [
    "if not flag:\n",
    "    best_threshold = 0.5\n",
    "    y_pred_one = [1 if y > best_threshold else 0 for y in y_pred]\n",
    "    df_submission = pd.DataFrame({\"PassengerId\":df_test[\"PassengerId\"], \"Survived\": y_pred_one})\n",
    "    display(df_submission)\n",
    "    df_submission.to_csv(\"submission_lgb6.csv\", index=False)"
   ]
  },
  {
   "cell_type": "code",
   "execution_count": null,
   "id": "helpful-government",
   "metadata": {},
   "outputs": [],
   "source": []
  }
 ],
 "metadata": {
  "kernelspec": {
   "display_name": "Python 3",
   "language": "python",
   "name": "python3"
  },
  "language_info": {
   "codemirror_mode": {
    "name": "ipython",
    "version": 3
   },
   "file_extension": ".py",
   "mimetype": "text/x-python",
   "name": "python",
   "nbconvert_exporter": "python",
   "pygments_lexer": "ipython3",
   "version": "3.8.1"
  },
  "neptune": {
   "notebookId": "ca1789f9-9ff7-4ac5-a315-17a6906f852a",
   "projectVersion": 2
  }
 },
 "nbformat": 4,
 "nbformat_minor": 5
}
