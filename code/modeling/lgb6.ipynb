{
 "cells": [
  {
   "cell_type": "code",
   "execution_count": null,
   "id": "wrapped-double",
   "metadata": {},
   "outputs": [],
   "source": [
    "# Neptune"
   ]
  },
  {
   "cell_type": "code",
   "execution_count": null,
   "id": "violent-promise",
   "metadata": {},
   "outputs": [],
   "source": [
    "import os\n",
    "# !pip install swifter"
   ]
  },
  {
   "cell_type": "code",
   "execution_count": 3,
   "id": "eleven-ireland",
   "metadata": {},
   "outputs": [],
   "source": [
    "# Path "
   ]
  },
  {
   "cell_type": "code",
   "execution_count": 4,
   "id": "alpha-design",
   "metadata": {},
   "outputs": [],
   "source": [
    "train_path = \"../../data/local/train.csv\"\n",
    "test_path = \"../../data/local/test.csv\""
   ]
  },
  {
   "cell_type": "code",
   "execution_count": 5,
   "id": "improving-calculation",
   "metadata": {},
   "outputs": [
    {
     "name": "stdout",
     "output_type": "stream",
     "text": [
      "data\n",
      "../../data/local/train.csv\n",
      "../../data/local/test.csv\n"
     ]
    }
   ],
   "source": [
    "print(\"data\")\n",
    "print(train_path)\n",
    "print(test_path)"
   ]
  },
  {
   "cell_type": "code",
   "execution_count": null,
   "id": "fourth-rendering",
   "metadata": {},
   "outputs": [],
   "source": []
  },
  {
   "cell_type": "code",
   "execution_count": 6,
   "id": "younger-effect",
   "metadata": {},
   "outputs": [],
   "source": [
    "# Load data "
   ]
  },
  {
   "cell_type": "code",
   "execution_count": 7,
   "id": "suited-norman",
   "metadata": {},
   "outputs": [],
   "source": [
    "import pandas as pd\n",
    "from sklearn.model_selection import train_test_split\n",
    "import lightgbm as lgb\n",
    "from sklearn.metrics import precision_recall_curve, accuracy_score\n",
    "import seaborn as sns\n",
    "from tqdm import tqdm\n",
    "import swifter"
   ]
  },
  {
   "cell_type": "code",
   "execution_count": 8,
   "id": "injured-gibson",
   "metadata": {},
   "outputs": [],
   "source": [
    "import re\n",
    "import numpy as np"
   ]
  },
  {
   "cell_type": "code",
   "execution_count": 9,
   "id": "checked-singing",
   "metadata": {},
   "outputs": [],
   "source": [
    "df_train = pd.read_csv(train_path)"
   ]
  },
  {
   "cell_type": "code",
   "execution_count": 10,
   "id": "chemical-jungle",
   "metadata": {},
   "outputs": [
    {
     "data": {
      "text/html": [
       "<div>\n",
       "<style scoped>\n",
       "    .dataframe tbody tr th:only-of-type {\n",
       "        vertical-align: middle;\n",
       "    }\n",
       "\n",
       "    .dataframe tbody tr th {\n",
       "        vertical-align: top;\n",
       "    }\n",
       "\n",
       "    .dataframe thead th {\n",
       "        text-align: right;\n",
       "    }\n",
       "</style>\n",
       "<table border=\"1\" class=\"dataframe\">\n",
       "  <thead>\n",
       "    <tr style=\"text-align: right;\">\n",
       "      <th></th>\n",
       "      <th>PassengerId</th>\n",
       "      <th>Survived</th>\n",
       "      <th>Pclass</th>\n",
       "      <th>Name</th>\n",
       "      <th>Sex</th>\n",
       "      <th>Age</th>\n",
       "      <th>SibSp</th>\n",
       "      <th>Parch</th>\n",
       "      <th>Ticket</th>\n",
       "      <th>Fare</th>\n",
       "      <th>Cabin</th>\n",
       "      <th>Embarked</th>\n",
       "    </tr>\n",
       "  </thead>\n",
       "  <tbody>\n",
       "    <tr>\n",
       "      <th>0</th>\n",
       "      <td>32456</td>\n",
       "      <td>1</td>\n",
       "      <td>1</td>\n",
       "      <td>Benitez, Christy</td>\n",
       "      <td>female</td>\n",
       "      <td>45.0</td>\n",
       "      <td>1</td>\n",
       "      <td>0</td>\n",
       "      <td>47782</td>\n",
       "      <td>34.53</td>\n",
       "      <td>C20721</td>\n",
       "      <td>S</td>\n",
       "    </tr>\n",
       "    <tr>\n",
       "      <th>1</th>\n",
       "      <td>40212</td>\n",
       "      <td>0</td>\n",
       "      <td>2</td>\n",
       "      <td>Dennis, Gary</td>\n",
       "      <td>male</td>\n",
       "      <td>32.0</td>\n",
       "      <td>0</td>\n",
       "      <td>0</td>\n",
       "      <td>202451</td>\n",
       "      <td>7.88</td>\n",
       "      <td>NaN</td>\n",
       "      <td>S</td>\n",
       "    </tr>\n",
       "    <tr>\n",
       "      <th>2</th>\n",
       "      <td>49626</td>\n",
       "      <td>1</td>\n",
       "      <td>1</td>\n",
       "      <td>Oatney, Carol</td>\n",
       "      <td>female</td>\n",
       "      <td>29.0</td>\n",
       "      <td>1</td>\n",
       "      <td>2</td>\n",
       "      <td>PC 22646</td>\n",
       "      <td>82.21</td>\n",
       "      <td>B14660</td>\n",
       "      <td>C</td>\n",
       "    </tr>\n",
       "    <tr>\n",
       "      <th>3</th>\n",
       "      <td>17676</td>\n",
       "      <td>1</td>\n",
       "      <td>2</td>\n",
       "      <td>Bailey, Ronnie</td>\n",
       "      <td>male</td>\n",
       "      <td>55.0</td>\n",
       "      <td>0</td>\n",
       "      <td>1</td>\n",
       "      <td>196804</td>\n",
       "      <td>9.65</td>\n",
       "      <td>NaN</td>\n",
       "      <td>S</td>\n",
       "    </tr>\n",
       "    <tr>\n",
       "      <th>4</th>\n",
       "      <td>29881</td>\n",
       "      <td>1</td>\n",
       "      <td>2</td>\n",
       "      <td>Summers, Pamela</td>\n",
       "      <td>female</td>\n",
       "      <td>62.0</td>\n",
       "      <td>0</td>\n",
       "      <td>0</td>\n",
       "      <td>6878</td>\n",
       "      <td>27.76</td>\n",
       "      <td>NaN</td>\n",
       "      <td>S</td>\n",
       "    </tr>\n",
       "  </tbody>\n",
       "</table>\n",
       "</div>"
      ],
      "text/plain": [
       "   PassengerId  Survived  Pclass              Name     Sex   Age  SibSp  \\\n",
       "0        32456         1       1  Benitez, Christy  female  45.0      1   \n",
       "1        40212         0       2      Dennis, Gary    male  32.0      0   \n",
       "2        49626         1       1     Oatney, Carol  female  29.0      1   \n",
       "3        17676         1       2    Bailey, Ronnie    male  55.0      0   \n",
       "4        29881         1       2   Summers, Pamela  female  62.0      0   \n",
       "\n",
       "   Parch    Ticket   Fare   Cabin Embarked  \n",
       "0      0     47782  34.53  C20721        S  \n",
       "1      0    202451   7.88     NaN        S  \n",
       "2      2  PC 22646  82.21  B14660        C  \n",
       "3      1    196804   9.65     NaN        S  \n",
       "4      0      6878  27.76     NaN        S  "
      ]
     },
     "execution_count": 10,
     "metadata": {},
     "output_type": "execute_result"
    }
   ],
   "source": [
    "df_train.head()"
   ]
  },
  {
   "cell_type": "code",
   "execution_count": 11,
   "id": "prepared-history",
   "metadata": {},
   "outputs": [
    {
     "data": {
      "text/plain": [
       "PassengerId    50000\n",
       "Survived       50000\n",
       "Pclass         50000\n",
       "Name           50000\n",
       "Sex            50000\n",
       "Age            48370\n",
       "SibSp          50000\n",
       "Parch          50000\n",
       "Ticket         47605\n",
       "Fare           49945\n",
       "Cabin          16066\n",
       "Embarked       49881\n",
       "dtype: int64"
      ]
     },
     "execution_count": 11,
     "metadata": {},
     "output_type": "execute_result"
    }
   ],
   "source": [
    "df_train.count()"
   ]
  },
  {
   "cell_type": "code",
   "execution_count": 12,
   "id": "exotic-casting",
   "metadata": {},
   "outputs": [],
   "source": [
    "df_test = pd.read_csv(test_path)"
   ]
  },
  {
   "cell_type": "code",
   "execution_count": 13,
   "id": "mobile-rebate",
   "metadata": {},
   "outputs": [
    {
     "data": {
      "text/html": [
       "<div>\n",
       "<style scoped>\n",
       "    .dataframe tbody tr th:only-of-type {\n",
       "        vertical-align: middle;\n",
       "    }\n",
       "\n",
       "    .dataframe tbody tr th {\n",
       "        vertical-align: top;\n",
       "    }\n",
       "\n",
       "    .dataframe thead th {\n",
       "        text-align: right;\n",
       "    }\n",
       "</style>\n",
       "<table border=\"1\" class=\"dataframe\">\n",
       "  <thead>\n",
       "    <tr style=\"text-align: right;\">\n",
       "      <th></th>\n",
       "      <th>PassengerId</th>\n",
       "      <th>Survived</th>\n",
       "      <th>Pclass</th>\n",
       "      <th>Name</th>\n",
       "      <th>Sex</th>\n",
       "      <th>Age</th>\n",
       "      <th>SibSp</th>\n",
       "      <th>Parch</th>\n",
       "      <th>Ticket</th>\n",
       "      <th>Fare</th>\n",
       "      <th>Cabin</th>\n",
       "      <th>Embarked</th>\n",
       "    </tr>\n",
       "  </thead>\n",
       "  <tbody>\n",
       "    <tr>\n",
       "      <th>0</th>\n",
       "      <td>86332</td>\n",
       "      <td>0</td>\n",
       "      <td>2</td>\n",
       "      <td>Whitson, Ryan</td>\n",
       "      <td>male</td>\n",
       "      <td>24.0</td>\n",
       "      <td>0</td>\n",
       "      <td>0</td>\n",
       "      <td>A.5. 23091</td>\n",
       "      <td>25.16</td>\n",
       "      <td>NaN</td>\n",
       "      <td>S</td>\n",
       "    </tr>\n",
       "    <tr>\n",
       "      <th>1</th>\n",
       "      <td>58553</td>\n",
       "      <td>0</td>\n",
       "      <td>1</td>\n",
       "      <td>Crossland, Winston</td>\n",
       "      <td>male</td>\n",
       "      <td>52.0</td>\n",
       "      <td>0</td>\n",
       "      <td>0</td>\n",
       "      <td>465968</td>\n",
       "      <td>27.69</td>\n",
       "      <td>C20653</td>\n",
       "      <td>S</td>\n",
       "    </tr>\n",
       "    <tr>\n",
       "      <th>2</th>\n",
       "      <td>91948</td>\n",
       "      <td>0</td>\n",
       "      <td>3</td>\n",
       "      <td>Mullins, William</td>\n",
       "      <td>male</td>\n",
       "      <td>47.0</td>\n",
       "      <td>1</td>\n",
       "      <td>1</td>\n",
       "      <td>13873</td>\n",
       "      <td>13.06</td>\n",
       "      <td>NaN</td>\n",
       "      <td>S</td>\n",
       "    </tr>\n",
       "    <tr>\n",
       "      <th>3</th>\n",
       "      <td>92894</td>\n",
       "      <td>0</td>\n",
       "      <td>2</td>\n",
       "      <td>Mcnamara, Richard</td>\n",
       "      <td>male</td>\n",
       "      <td>1.0</td>\n",
       "      <td>1</td>\n",
       "      <td>2</td>\n",
       "      <td>469361</td>\n",
       "      <td>32.94</td>\n",
       "      <td>NaN</td>\n",
       "      <td>S</td>\n",
       "    </tr>\n",
       "    <tr>\n",
       "      <th>4</th>\n",
       "      <td>29714</td>\n",
       "      <td>0</td>\n",
       "      <td>2</td>\n",
       "      <td>Vogel, Richard</td>\n",
       "      <td>male</td>\n",
       "      <td>30.0</td>\n",
       "      <td>0</td>\n",
       "      <td>0</td>\n",
       "      <td>11235</td>\n",
       "      <td>7.03</td>\n",
       "      <td>NaN</td>\n",
       "      <td>S</td>\n",
       "    </tr>\n",
       "  </tbody>\n",
       "</table>\n",
       "</div>"
      ],
      "text/plain": [
       "   PassengerId  Survived  Pclass                Name   Sex   Age  SibSp  \\\n",
       "0        86332         0       2       Whitson, Ryan  male  24.0      0   \n",
       "1        58553         0       1  Crossland, Winston  male  52.0      0   \n",
       "2        91948         0       3    Mullins, William  male  47.0      1   \n",
       "3        92894         0       2   Mcnamara, Richard  male   1.0      1   \n",
       "4        29714         0       2      Vogel, Richard  male  30.0      0   \n",
       "\n",
       "   Parch      Ticket   Fare   Cabin Embarked  \n",
       "0      0  A.5. 23091  25.16     NaN        S  \n",
       "1      0      465968  27.69  C20653        S  \n",
       "2      1       13873  13.06     NaN        S  \n",
       "3      2      469361  32.94     NaN        S  \n",
       "4      0       11235   7.03     NaN        S  "
      ]
     },
     "execution_count": 13,
     "metadata": {},
     "output_type": "execute_result"
    }
   ],
   "source": [
    "df_test.head()"
   ]
  },
  {
   "cell_type": "markdown",
   "id": "loved-knitting",
   "metadata": {},
   "source": [
    "# Feature Extraction "
   ]
  },
  {
   "cell_type": "code",
   "execution_count": 14,
   "id": "lined-chinese",
   "metadata": {},
   "outputs": [],
   "source": [
    "from sklearn import preprocessing"
   ]
  },
  {
   "cell_type": "markdown",
   "id": "crucial-horse",
   "metadata": {},
   "source": [
    "## Encoding Sex"
   ]
  },
  {
   "cell_type": "code",
   "execution_count": 15,
   "id": "separated-raising",
   "metadata": {},
   "outputs": [],
   "source": [
    "sex_encoder = preprocessing.LabelEncoder()"
   ]
  },
  {
   "cell_type": "code",
   "execution_count": 16,
   "id": "proud-following",
   "metadata": {},
   "outputs": [
    {
     "data": {
      "text/plain": [
       "LabelEncoder()"
      ]
     },
     "execution_count": 16,
     "metadata": {},
     "output_type": "execute_result"
    }
   ],
   "source": [
    "sex_encoder.fit(list(df_train[\"Sex\"]) + list(df_test[\"Sex\"]))"
   ]
  },
  {
   "cell_type": "code",
   "execution_count": 17,
   "id": "intensive-candidate",
   "metadata": {},
   "outputs": [],
   "source": [
    "df_train[\"Sex_feature\"] = sex_encoder.transform(df_train[\"Sex\"])"
   ]
  },
  {
   "cell_type": "code",
   "execution_count": 18,
   "id": "compressed-provider",
   "metadata": {},
   "outputs": [],
   "source": [
    "df_test[\"Sex_feature\"] = sex_encoder.transform(df_test[\"Sex\"])"
   ]
  },
  {
   "cell_type": "markdown",
   "id": "subsequent-pollution",
   "metadata": {},
   "source": [
    "## Encoding Embarked"
   ]
  },
  {
   "cell_type": "code",
   "execution_count": 19,
   "id": "billion-welcome",
   "metadata": {},
   "outputs": [],
   "source": [
    "embarked_encoder = preprocessing.LabelEncoder()\n",
    "df_train[\"Embarked\"] = df_train[\"Embarked\"].fillna(\"UNK\")\n",
    "df_test[\"Embarked\"] = df_test[\"Embarked\"].fillna(\"UNK\")"
   ]
  },
  {
   "cell_type": "code",
   "execution_count": 20,
   "id": "allied-channel",
   "metadata": {},
   "outputs": [
    {
     "data": {
      "text/plain": [
       "LabelEncoder()"
      ]
     },
     "execution_count": 20,
     "metadata": {},
     "output_type": "execute_result"
    }
   ],
   "source": [
    "embarked_encoder.fit(list(df_train[\"Embarked\"]) + list(df_test[\"Embarked\"]))"
   ]
  },
  {
   "cell_type": "code",
   "execution_count": 21,
   "id": "unlimited-public",
   "metadata": {},
   "outputs": [],
   "source": [
    "df_train[\"Embarked_feature\"] = embarked_encoder.transform(df_train[\"Embarked\"])"
   ]
  },
  {
   "cell_type": "code",
   "execution_count": 22,
   "id": "dimensional-hearing",
   "metadata": {},
   "outputs": [],
   "source": [
    "df_test[\"Embarked_feature\"] = embarked_encoder.transform(df_test[\"Embarked\"])"
   ]
  },
  {
   "cell_type": "markdown",
   "id": "empirical-memory",
   "metadata": {},
   "source": [
    "## Extract Cabin"
   ]
  },
  {
   "cell_type": "code",
   "execution_count": 23,
   "id": "parental-sterling",
   "metadata": {},
   "outputs": [],
   "source": [
    "cabin_encoder = preprocessing.LabelEncoder()"
   ]
  },
  {
   "cell_type": "code",
   "execution_count": 24,
   "id": "convenient-insert",
   "metadata": {},
   "outputs": [],
   "source": [
    "def extract_cabin_type(cabin_text):\n",
    "    if cabin_text:\n",
    "        cabin_type = cabin_text[0]\n",
    "        return cabin_type\n",
    "    else:\n",
    "        return \"U\""
   ]
  },
  {
   "cell_type": "code",
   "execution_count": 25,
   "id": "functional-scott",
   "metadata": {},
   "outputs": [
    {
     "data": {
      "application/vnd.jupyter.widget-view+json": {
       "model_id": "8b0642cf3a984663a8d44242457608b3",
       "version_major": 2,
       "version_minor": 0
      },
      "text/plain": [
       "Pandas Apply:   0%|          | 0/50000 [00:00<?, ?it/s]"
      ]
     },
     "metadata": {},
     "output_type": "display_data"
    }
   ],
   "source": [
    "df_train[\"Cabin_type\"] = df_train[\"Cabin\"].fillna(\"U\").swifter.apply(extract_cabin_type)\n"
   ]
  },
  {
   "cell_type": "code",
   "execution_count": 26,
   "id": "backed-portfolio",
   "metadata": {},
   "outputs": [
    {
     "data": {
      "application/vnd.jupyter.widget-view+json": {
       "model_id": "675ff8415cbf48f3bc06bd63ea694f1a",
       "version_major": 2,
       "version_minor": 0
      },
      "text/plain": [
       "Pandas Apply:   0%|          | 0/50000 [00:00<?, ?it/s]"
      ]
     },
     "metadata": {},
     "output_type": "display_data"
    }
   ],
   "source": [
    "df_test[\"Cabin_type\"] = df_test[\"Cabin\"].fillna(\"U\").swifter.apply(extract_cabin_type)"
   ]
  },
  {
   "cell_type": "code",
   "execution_count": 27,
   "id": "surrounded-parade",
   "metadata": {},
   "outputs": [
    {
     "data": {
      "text/plain": [
       "LabelEncoder()"
      ]
     },
     "execution_count": 27,
     "metadata": {},
     "output_type": "execute_result"
    }
   ],
   "source": [
    "cabin_encoder.fit(list(df_train[\"Cabin_type\"]) + list(df_test[\"Cabin_type\"]))"
   ]
  },
  {
   "cell_type": "code",
   "execution_count": 28,
   "id": "revolutionary-lancaster",
   "metadata": {},
   "outputs": [],
   "source": [
    "df_train[\"Cabin_type_feature\"] = cabin_encoder.transform(df_train[\"Cabin_type\"])"
   ]
  },
  {
   "cell_type": "code",
   "execution_count": 29,
   "id": "ceramic-waste",
   "metadata": {},
   "outputs": [],
   "source": [
    "df_test[\"Cabin_type_feature\"] = cabin_encoder.transform(df_test[\"Cabin_type\"])"
   ]
  },
  {
   "cell_type": "code",
   "execution_count": 30,
   "id": "adult-dealing",
   "metadata": {},
   "outputs": [
    {
     "data": {
      "text/plain": [
       "16"
      ]
     },
     "execution_count": 30,
     "metadata": {},
     "output_type": "execute_result"
    }
   ],
   "source": [
    "len(df_train.columns)"
   ]
  },
  {
   "cell_type": "markdown",
   "id": "burning-north",
   "metadata": {},
   "source": [
    "## Extract Ticket text"
   ]
  },
  {
   "cell_type": "code",
   "execution_count": 31,
   "id": "stylish-despite",
   "metadata": {},
   "outputs": [],
   "source": [
    "def extract_text(text):\n",
    "    result = \"\"\n",
    "    if text:\n",
    "        text = str(text)\n",
    "        result = \"\".join(re.findall(\"[a-zA-Z]+\", text))\n",
    "    else:\n",
    "        result = \"NULL\"\n",
    "    if result == \"\":\n",
    "        result = \"NO_TEXT\"\n",
    "    return result"
   ]
  },
  {
   "cell_type": "code",
   "execution_count": 32,
   "id": "alert-wilson",
   "metadata": {},
   "outputs": [
    {
     "data": {
      "application/vnd.jupyter.widget-view+json": {
       "model_id": "b6458bca21724ad79cbdc450337e7ff3",
       "version_major": 2,
       "version_minor": 0
      },
      "text/plain": [
       "Pandas Apply:   0%|          | 0/50000 [00:00<?, ?it/s]"
      ]
     },
     "metadata": {},
     "output_type": "display_data"
    }
   ],
   "source": [
    "df_train[\"Ticket_type\"] = df_train[\"Ticket\"].fillna(\"UNK\").swifter.apply(extract_text)"
   ]
  },
  {
   "cell_type": "code",
   "execution_count": 33,
   "id": "postal-trademark",
   "metadata": {},
   "outputs": [
    {
     "data": {
      "application/vnd.jupyter.widget-view+json": {
       "model_id": "3b8ad2cdc9844a22b29d0b0200a67f73",
       "version_major": 2,
       "version_minor": 0
      },
      "text/plain": [
       "Pandas Apply:   0%|          | 0/50000 [00:00<?, ?it/s]"
      ]
     },
     "metadata": {},
     "output_type": "display_data"
    }
   ],
   "source": [
    "df_test[\"Ticket_type\"] = df_test[\"Ticket\"].fillna(\"UNK\").swifter.apply(extract_text)"
   ]
  },
  {
   "cell_type": "code",
   "execution_count": 34,
   "id": "listed-rolling",
   "metadata": {},
   "outputs": [],
   "source": [
    "ticket_encoder = preprocessing.LabelEncoder()"
   ]
  },
  {
   "cell_type": "code",
   "execution_count": 35,
   "id": "double-october",
   "metadata": {},
   "outputs": [
    {
     "data": {
      "text/plain": [
       "LabelEncoder()"
      ]
     },
     "execution_count": 35,
     "metadata": {},
     "output_type": "execute_result"
    }
   ],
   "source": [
    "ticket_encoder.fit(list(df_train[\"Ticket_type\"]) + list(df_test[\"Ticket_type\"]))"
   ]
  },
  {
   "cell_type": "code",
   "execution_count": 36,
   "id": "effective-session",
   "metadata": {},
   "outputs": [],
   "source": [
    "df_train[\"Ticket_type_feature\"] = ticket_encoder.transform(df_train[\"Ticket_type\"])"
   ]
  },
  {
   "cell_type": "code",
   "execution_count": 37,
   "id": "coastal-mechanism",
   "metadata": {},
   "outputs": [],
   "source": [
    "df_test[\"Ticket_type_feature\"] = ticket_encoder.transform(df_test[\"Ticket_type\"])"
   ]
  },
  {
   "cell_type": "markdown",
   "id": "documented-railway",
   "metadata": {},
   "source": [
    "## Family feature "
   ]
  },
  {
   "cell_type": "markdown",
   "id": "elementary-treasure",
   "metadata": {},
   "source": [
    "### Family size "
   ]
  },
  {
   "cell_type": "code",
   "execution_count": 38,
   "id": "blocked-summary",
   "metadata": {},
   "outputs": [],
   "source": [
    "def make_family_size(df):\n",
    "    df[\"family_size\"] = df[\"SibSp\"] + df[\"Parch\"]\n",
    "    return df"
   ]
  },
  {
   "cell_type": "code",
   "execution_count": 39,
   "id": "practical-mambo",
   "metadata": {},
   "outputs": [],
   "source": [
    "df_train = make_family_size(df_train)\n",
    "df_test = make_family_size(df_test)"
   ]
  },
  {
   "cell_type": "code",
   "execution_count": 40,
   "id": "cooked-charm",
   "metadata": {},
   "outputs": [],
   "source": [
    "# df_test[\"SibSp\"] > df_test[\"Parch\"]"
   ]
  },
  {
   "cell_type": "markdown",
   "id": "damaged-concord",
   "metadata": {},
   "source": [
    "### Multi-generationA"
   ]
  },
  {
   "cell_type": "code",
   "execution_count": null,
   "id": "southeast-savage",
   "metadata": {},
   "outputs": [],
   "source": []
  },
  {
   "cell_type": "code",
   "execution_count": 41,
   "id": "established-inspiration",
   "metadata": {},
   "outputs": [],
   "source": [
    "def make_multi_gen_feature(df):\n",
    "    df[\"multigen\"] = np.where((df[\"SibSp\"] > 0) & (df[\"Parch\"] > 0), 1, 0)\n",
    "    return df"
   ]
  },
  {
   "cell_type": "code",
   "execution_count": 42,
   "id": "existing-enemy",
   "metadata": {},
   "outputs": [],
   "source": [
    "df_train = make_multi_gen_feature(df_train)\n",
    "df_test = make_multi_gen_feature(df_test)"
   ]
  },
  {
   "cell_type": "code",
   "execution_count": null,
   "id": "internal-mississippi",
   "metadata": {},
   "outputs": [],
   "source": []
  },
  {
   "cell_type": "markdown",
   "id": "acting-southwest",
   "metadata": {},
   "source": [
    "### solo"
   ]
  },
  {
   "cell_type": "code",
   "execution_count": 43,
   "id": "enormous-accountability",
   "metadata": {},
   "outputs": [],
   "source": [
    "def make_go_solo(df):\n",
    "    df[\"solo\"] = np.where((df[\"SibSp\"] == 0) & (df[\"Parch\"] == 0), 1, 0)\n",
    "    return df"
   ]
  },
  {
   "cell_type": "code",
   "execution_count": 44,
   "id": "fitted-florida",
   "metadata": {},
   "outputs": [],
   "source": [
    "df_train = make_go_solo(df_train)\n",
    "df_test = make_go_solo(df_test)"
   ]
  },
  {
   "cell_type": "markdown",
   "id": "gentle-script",
   "metadata": {},
   "source": [
    "## Choice feature"
   ]
  },
  {
   "cell_type": "code",
   "execution_count": 45,
   "id": "saving-virtue",
   "metadata": {},
   "outputs": [],
   "source": [
    "choice_feature = [\"Sex_feature\", \"Age\", \"Fare\", \"SibSp\", \"Pclass\", \"Embarked_feature\", \"Cabin_type_feature\", \"Ticket_type_feature\", \"Parch\", \"family_size\", \"multigen\", \"solo\"]"
   ]
  },
  {
   "cell_type": "code",
   "execution_count": 46,
   "id": "parliamentary-right",
   "metadata": {},
   "outputs": [],
   "source": [
    "X = df_train[choice_feature]\n",
    "y = df_train[\"Survived\"]"
   ]
  },
  {
   "cell_type": "code",
   "execution_count": 47,
   "id": "sudden-weapon",
   "metadata": {},
   "outputs": [],
   "source": [
    "# len(X.columns)"
   ]
  },
  {
   "cell_type": "code",
   "execution_count": 48,
   "id": "coastal-drilling",
   "metadata": {},
   "outputs": [],
   "source": [
    "X_test = df_test[choice_feature]\n"
   ]
  },
  {
   "cell_type": "code",
   "execution_count": 49,
   "id": "reverse-powder",
   "metadata": {},
   "outputs": [],
   "source": [
    "X_train, X_val, y_train, y_val = train_test_split(X, y, test_size=0.1, random_state=3041975)"
   ]
  },
  {
   "cell_type": "code",
   "execution_count": 50,
   "id": "substantial-terrace",
   "metadata": {},
   "outputs": [],
   "source": [
    "lgb_train_data = lgb.Dataset(data=X_train, label=y_train, categorical_feature=[\"Sex_feature\", \"Embarked_feature\", \"Pclass\", \"Cabin_type_feature\", \"multigen\", \"solo\"])"
   ]
  },
  {
   "cell_type": "code",
   "execution_count": 51,
   "id": "unsigned-heavy",
   "metadata": {},
   "outputs": [],
   "source": [
    "lgb_val_data = lgb.Dataset(data=X_val, label=y_val, reference=lgb_train_data)"
   ]
  },
  {
   "cell_type": "code",
   "execution_count": 52,
   "id": "hidden-accent",
   "metadata": {},
   "outputs": [],
   "source": [
    "# lgbm_params = {\n",
    "#     'boosting': 'gbdt',          # dart (drop out trees) often performs better\n",
    "#     'application': 'binary',     # Binary classification\n",
    "#     'learning_rate': 0.02,       # Learning rate, controls size of a gradient descent step\n",
    "#     'min_data_in_leaf': 100,      # Data set is quite small so reduce this a bit\n",
    "#     'feature_fraction': 0.7,     # Proportion of features in each boost, controls overfitting\n",
    "#     'metric': 'auc',  # Area under ROC curve as the evaulation metric,\n",
    "#     'lambda_l1': 5e-05, \n",
    "#     'lambda_l2': 1.35e-08, \n",
    "#     'num_leaves': 216, \n",
    "#     'feature_fraction': 0.7458519562366559, \n",
    "#     'bagging_fraction': 0.7835116194444349, \n",
    "#     'bagging_freq': 2, \n",
    "#     'min_child_samples': 95\n",
    "# }"
   ]
  },
  {
   "cell_type": "code",
   "execution_count": 53,
   "id": "independent-administration",
   "metadata": {},
   "outputs": [],
   "source": [
    "lgbm_params = {\n",
    "    'boosting': 'gbdt',          # dart (drop out trees) often performs better\n",
    "    'application': 'binary',     # Binary classification\n",
    "    'learning_rate': 0.001,       # Learning rate, controls size of a gradient descent step\n",
    "    # 'feature_fraction': 0.7,     # Proportion of features in each boost, controls overfitting\n",
    "    'metric': 'auc',  # Area under ROC curve as the evaulation metric,\n",
    "    'lambda_l1': 5e-05, \n",
    "    'lambda_l2': 1.35e-08, \n",
    "    'num_leaves': 216, \n",
    "}"
   ]
  },
  {
   "cell_type": "code",
   "execution_count": 54,
   "id": "transsexual-injection",
   "metadata": {},
   "outputs": [],
   "source": [
    "lgbm_params = {\n",
    "    'boosting': 'gbdt',          # dart (drop out trees) often performs better\n",
    "    'application': 'binary',     # Binary classification\n",
    "    'learning_rate': 0.001,       # Learning rate, controls size of a gradient descent step\n",
    "    # 'feature_fraction': 0.9,     # Proportion of features in each boost, controls overfitting\n",
    "    'bagging_fraction': 0.6,\n",
    "    'bagging_freq': 2, \n",
    "    'metric': 'auc',  # Area under ROC curve as the evaulation metric,\n",
    "    'lambda_l1': 5e-05, \n",
    "    'lambda_l2': 1.35e-08, \n",
    "    'num_leaves': 250, \n",
    "    # 'min_data_in_leaf':100\n",
    "}"
   ]
  },
  {
   "cell_type": "code",
   "execution_count": 55,
   "id": "constant-graphics",
   "metadata": {},
   "outputs": [],
   "source": [
    "# lgbm_params = {\n",
    "#     'boosting': 'gbdt',          # dart (drop out trees) often performs better\n",
    "#     'objective': 'binary',     # Binary classification\n",
    "# }"
   ]
  },
  {
   "cell_type": "code",
   "execution_count": 56,
   "id": "normal-chocolate",
   "metadata": {},
   "outputs": [],
   "source": [
    "# experiment = neptune.create_experiment(name='LightGBM-training', params=lgbm_params)"
   ]
  },
  {
   "cell_type": "code",
   "execution_count": null,
   "id": "quality-danger",
   "metadata": {},
   "outputs": [],
   "source": []
  },
  {
   "cell_type": "code",
   "execution_count": 57,
   "id": "viral-novelty",
   "metadata": {},
   "outputs": [
    {
     "name": "stderr",
     "output_type": "stream",
     "text": [
      "/home/tt/miniconda3/envs/ml/lib/python3.8/site-packages/lightgbm/basic.py:1551: UserWarning: Using categorical_feature in Dataset.\n",
      "  warnings.warn('Using categorical_feature in Dataset.')\n",
      "/home/tt/miniconda3/envs/ml/lib/python3.8/site-packages/lightgbm/basic.py:1554: UserWarning: categorical_feature in Dataset is overridden.\n",
      "New categorical_feature is ['Cabin_type_feature', 'Embarked_feature', 'Pclass', 'Sex_feature', 'multigen', 'solo']\n",
      "  warnings.warn('categorical_feature in Dataset is overridden.\\n'\n",
      "/home/tt/miniconda3/envs/ml/lib/python3.8/site-packages/lightgbm/basic.py:1286: UserWarning: Overriding the parameters from Reference Dataset.\n",
      "  warnings.warn('Overriding the parameters from Reference Dataset.')\n",
      "/home/tt/miniconda3/envs/ml/lib/python3.8/site-packages/lightgbm/basic.py:1098: UserWarning: categorical_column in param dict is overridden.\n",
      "  warnings.warn('{} in param dict is overridden.'.format(cat_alias))\n"
     ]
    },
    {
     "name": "stdout",
     "output_type": "stream",
     "text": [
      "[LightGBM] [Info] Number of positive: 19372, number of negative: 25628\n",
      "[LightGBM] [Warning] Auto-choosing row-wise multi-threading, the overhead of testing was 0.002847 seconds.\n",
      "You can set `force_row_wise=true` to remove the overhead.\n",
      "And if memory is not enough, you can set `force_col_wise=true`.\n",
      "[LightGBM] [Info] Total Bins 475\n",
      "[LightGBM] [Info] Number of data points in the train set: 45000, number of used features: 12\n",
      "[LightGBM] [Info] [binary:BoostFromScore]: pavg=0.430489 -> initscore=-0.279857\n",
      "[LightGBM] [Info] Start training from score -0.279857\n",
      "Training until validation scores don't improve for 500 rounds\n",
      "[500]\ttrain_data's auc: 0.875042\tval_data's auc: 0.850511\n",
      "[1000]\ttrain_data's auc: 0.87857\tval_data's auc: 0.850928\n",
      "[1500]\ttrain_data's auc: 0.881878\tval_data's auc: 0.850783\n",
      "Early stopping, best iteration is:\n",
      "[1146]\ttrain_data's auc: 0.879541\tval_data's auc: 0.850986\n"
     ]
    }
   ],
   "source": [
    "num_boost_round = 7000\n",
    "# from neptunecontrib.monitoring.lightgbm import neptune_monitor\n",
    "model = lgb.train(lgbm_params, lgb_train_data, valid_sets = [lgb_train_data, lgb_val_data], valid_names=[\"train_data\", \"val_data\"], verbose_eval=500, num_boost_round=num_boost_round, early_stopping_rounds=500)"
   ]
  },
  {
   "cell_type": "markdown",
   "id": "intelligent-creature",
   "metadata": {},
   "source": [
    "# Evaluation "
   ]
  },
  {
   "cell_type": "code",
   "execution_count": 58,
   "id": "sized-search",
   "metadata": {},
   "outputs": [],
   "source": [
    "flag = False"
   ]
  },
  {
   "cell_type": "code",
   "execution_count": 59,
   "id": "coordinate-minimum",
   "metadata": {},
   "outputs": [],
   "source": [
    "if \"local\" in train_path:\n",
    "    flag = True"
   ]
  },
  {
   "cell_type": "code",
   "execution_count": 60,
   "id": "advance-response",
   "metadata": {},
   "outputs": [
    {
     "data": {
      "text/plain": [
       "True"
      ]
     },
     "execution_count": 60,
     "metadata": {},
     "output_type": "execute_result"
    }
   ],
   "source": [
    "flag"
   ]
  },
  {
   "cell_type": "code",
   "execution_count": 70,
   "id": "optical-subdivision",
   "metadata": {},
   "outputs": [],
   "source": [
    "y_pred = model.predict(X_test, num_iteration=model.best_iteration)"
   ]
  },
  {
   "cell_type": "code",
   "execution_count": 71,
   "id": "gothic-breakfast",
   "metadata": {},
   "outputs": [],
   "source": [
    "# y_pred = model.predict(X_test)"
   ]
  },
  {
   "cell_type": "code",
   "execution_count": 72,
   "id": "covered-density",
   "metadata": {},
   "outputs": [
    {
     "name": "stdout",
     "output_type": "stream",
     "text": [
      "1146\n"
     ]
    }
   ],
   "source": [
    "print(model.best_iteration)"
   ]
  },
  {
   "cell_type": "code",
   "execution_count": 73,
   "id": "hawaiian-distributor",
   "metadata": {},
   "outputs": [],
   "source": [
    "if flag:\n",
    "    y_test = df_test[\"Survived\"]\n",
    "    precision, recall, thresholds = precision_recall_curve(y_test, y_pred)\n",
    "    df_curve = pd.DataFrame({\"precision\": precision, \"recall\": recall})\n",
    "    "
   ]
  },
  {
   "cell_type": "code",
   "execution_count": 74,
   "id": "hollywood-function",
   "metadata": {},
   "outputs": [
    {
     "data": {
      "image/png": "[encoded data removed]",
      "text/plain": [
       "<Figure size 432x288 with 1 Axes>"
      ]
     },
     "metadata": {
      "needs_background": "light"
     },
     "output_type": "display_data"
    }
   ],
   "source": [
    "if flag:\n",
    "    sns.lineplot(data=df_curve)"
   ]
  },
  {
   "cell_type": "code",
   "execution_count": 75,
   "id": "acting-departure",
   "metadata": {},
   "outputs": [],
   "source": [
    "thresholds_meow = [i*0.01 for i in range(1,100)]"
   ]
  },
  {
   "cell_type": "code",
   "execution_count": 76,
   "id": "reliable-burns",
   "metadata": {},
   "outputs": [
    {
     "data": {
      "image/png": "[encoded data removed]",
      "text/plain": [
       "<Figure size 432x288 with 1 Axes>"
      ]
     },
     "metadata": {
      "needs_background": "light"
     },
     "output_type": "display_data"
    }
   ],
   "source": [
    "if flag: \n",
    "    acc_list = []\n",
    "    for threshold in thresholds_meow:\n",
    "        y_pred_one = [1 if y > threshold else 0 for y in y_pred]\n",
    "        accuracy = accuracy_score(y_test, y_pred_one)\n",
    "        acc_list.append(accuracy)\n",
    "    df_acc = pd.DataFrame({\"threshold\":thresholds_meow, \"accuracy\":acc_list})\n",
    "    ax = sns.lineplot(data=df_acc, x=\"threshold\", y=\"accuracy\")\n",
    "    ax.set_ylim(0, 1)"
   ]
  },
  {
   "cell_type": "code",
   "execution_count": 77,
   "id": "ethical-yemen",
   "metadata": {},
   "outputs": [
    {
     "name": "stdout",
     "output_type": "stream",
     "text": [
      "Best Acc  0.78086\n",
      "Best threshold  0.5\n"
     ]
    }
   ],
   "source": [
    "if flag:\n",
    "    max_acc = max(acc_list)\n",
    "    max_index = acc_list.index(max_acc)\n",
    "    best_threshold = thresholds_meow[max_index]\n",
    "    print(\"Best Acc \", max_acc)\n",
    "    print(\"Best threshold \", best_threshold)\n",
    "\n"
   ]
  },
  {
   "cell_type": "markdown",
   "id": "handmade-advocacy",
   "metadata": {},
   "source": [
    "## Online submission"
   ]
  },
  {
   "cell_type": "code",
   "execution_count": 69,
   "id": "conditional-attachment",
   "metadata": {},
   "outputs": [],
   "source": [
    "if not flag:\n",
    "    best_threshold = 0.5\n",
    "    y_pred_one = [1 if y > best_threshold else 0 for y in y_pred]\n",
    "    df_submission = pd.DataFrame({\"PassengerId\":df_test[\"PassengerId\"], \"Survived\": y_pred_one})\n",
    "    display(df_submission)\n",
    "    df_submission.to_csv(\"submission.csv\", index=False)"
   ]
  },
  {
   "cell_type": "code",
   "execution_count": null,
   "id": "instant-olive",
   "metadata": {},
   "outputs": [],
   "source": []
  }
 ],
 "metadata": {
  "kernelspec": {
   "display_name": "Python 3",
   "language": "python",
   "name": "python3"
  },
  "language_info": {
   "codemirror_mode": {
    "name": "ipython",
    "version": 3
   },
   "file_extension": ".py",
   "mimetype": "text/x-python",
   "name": "python",
   "nbconvert_exporter": "python",
   "pygments_lexer": "ipython3",
   "version": "3.8.1"
  },
  "neptune": {
   "notebookId": "ca1789f9-9ff7-4ac5-a315-17a6906f852a",
   "projectVersion": 2
  }
 },
 "nbformat": 4,
 "nbformat_minor": 5
}
