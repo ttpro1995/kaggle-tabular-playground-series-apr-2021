{
 "cells": [
  {
   "cell_type": "code",
   "execution_count": 1,
   "id": "angry-projection",
   "metadata": {},
   "outputs": [],
   "source": []
  },
  {
   "cell_type": "code",
   "execution_count": null,
   "id": "together-platinum",
   "metadata": {},
   "outputs": [],
   "source": []
  },
  {
   "cell_type": "code",
   "execution_count": 2,
   "id": "constitutional-variety",
   "metadata": {},
   "outputs": [],
   "source": [
    "# Path "
   ]
  },
  {
   "cell_type": "code",
   "execution_count": 10,
   "id": "according-lightning",
   "metadata": {},
   "outputs": [],
   "source": [
    "train_path = \"../../data/local/train.csv\"\n",
    "test_path = \"../../data/local/test.csv\""
   ]
  },
  {
   "cell_type": "code",
   "execution_count": 11,
   "id": "infrared-swedish",
   "metadata": {},
   "outputs": [
    {
     "name": "stdout",
     "output_type": "stream",
     "text": [
      "data\n",
      "../../data/local/train.csv\n",
      "../../data/local/test.csv\n"
     ]
    }
   ],
   "source": [
    "print(\"data\")\n",
    "print(train_path)\n",
    "print(test_path)"
   ]
  },
  {
   "cell_type": "code",
   "execution_count": null,
   "id": "bronze-scanner",
   "metadata": {},
   "outputs": [],
   "source": []
  },
  {
   "cell_type": "code",
   "execution_count": 12,
   "id": "thick-terrace",
   "metadata": {},
   "outputs": [],
   "source": [
    "# Load data "
   ]
  },
  {
   "cell_type": "code",
   "execution_count": 83,
   "id": "original-venture",
   "metadata": {},
   "outputs": [],
   "source": [
    "import pandas as pd\n",
    "from sklearn.model_selection import train_test_split\n",
    "import lightgbm as lgb\n",
    "from sklearn.metrics import precision_recall_curve, accuracy_score\n",
    "import seaborn as sns\n",
    "from tqdm import tqdm\n"
   ]
  },
  {
   "cell_type": "code",
   "execution_count": 14,
   "id": "mediterranean-contemporary",
   "metadata": {},
   "outputs": [],
   "source": [
    "df_train = pd.read_csv(train_path)"
   ]
  },
  {
   "cell_type": "code",
   "execution_count": 15,
   "id": "seeing-jumping",
   "metadata": {},
   "outputs": [
    {
     "data": {
      "text/html": [
       "<div>\n",
       "<style scoped>\n",
       "    .dataframe tbody tr th:only-of-type {\n",
       "        vertical-align: middle;\n",
       "    }\n",
       "\n",
       "    .dataframe tbody tr th {\n",
       "        vertical-align: top;\n",
       "    }\n",
       "\n",
       "    .dataframe thead th {\n",
       "        text-align: right;\n",
       "    }\n",
       "</style>\n",
       "<table border=\"1\" class=\"dataframe\">\n",
       "  <thead>\n",
       "    <tr style=\"text-align: right;\">\n",
       "      <th></th>\n",
       "      <th>PassengerId</th>\n",
       "      <th>Survived</th>\n",
       "      <th>Pclass</th>\n",
       "      <th>Name</th>\n",
       "      <th>Sex</th>\n",
       "      <th>Age</th>\n",
       "      <th>SibSp</th>\n",
       "      <th>Parch</th>\n",
       "      <th>Ticket</th>\n",
       "      <th>Fare</th>\n",
       "      <th>Cabin</th>\n",
       "      <th>Embarked</th>\n",
       "    </tr>\n",
       "  </thead>\n",
       "  <tbody>\n",
       "    <tr>\n",
       "      <th>0</th>\n",
       "      <td>32456</td>\n",
       "      <td>1</td>\n",
       "      <td>1</td>\n",
       "      <td>Benitez, Christy</td>\n",
       "      <td>female</td>\n",
       "      <td>45.0</td>\n",
       "      <td>1</td>\n",
       "      <td>0</td>\n",
       "      <td>47782</td>\n",
       "      <td>34.53</td>\n",
       "      <td>C20721</td>\n",
       "      <td>S</td>\n",
       "    </tr>\n",
       "    <tr>\n",
       "      <th>1</th>\n",
       "      <td>40212</td>\n",
       "      <td>0</td>\n",
       "      <td>2</td>\n",
       "      <td>Dennis, Gary</td>\n",
       "      <td>male</td>\n",
       "      <td>32.0</td>\n",
       "      <td>0</td>\n",
       "      <td>0</td>\n",
       "      <td>202451</td>\n",
       "      <td>7.88</td>\n",
       "      <td>NaN</td>\n",
       "      <td>S</td>\n",
       "    </tr>\n",
       "    <tr>\n",
       "      <th>2</th>\n",
       "      <td>49626</td>\n",
       "      <td>1</td>\n",
       "      <td>1</td>\n",
       "      <td>Oatney, Carol</td>\n",
       "      <td>female</td>\n",
       "      <td>29.0</td>\n",
       "      <td>1</td>\n",
       "      <td>2</td>\n",
       "      <td>PC 22646</td>\n",
       "      <td>82.21</td>\n",
       "      <td>B14660</td>\n",
       "      <td>C</td>\n",
       "    </tr>\n",
       "    <tr>\n",
       "      <th>3</th>\n",
       "      <td>17676</td>\n",
       "      <td>1</td>\n",
       "      <td>2</td>\n",
       "      <td>Bailey, Ronnie</td>\n",
       "      <td>male</td>\n",
       "      <td>55.0</td>\n",
       "      <td>0</td>\n",
       "      <td>1</td>\n",
       "      <td>196804</td>\n",
       "      <td>9.65</td>\n",
       "      <td>NaN</td>\n",
       "      <td>S</td>\n",
       "    </tr>\n",
       "    <tr>\n",
       "      <th>4</th>\n",
       "      <td>29881</td>\n",
       "      <td>1</td>\n",
       "      <td>2</td>\n",
       "      <td>Summers, Pamela</td>\n",
       "      <td>female</td>\n",
       "      <td>62.0</td>\n",
       "      <td>0</td>\n",
       "      <td>0</td>\n",
       "      <td>6878</td>\n",
       "      <td>27.76</td>\n",
       "      <td>NaN</td>\n",
       "      <td>S</td>\n",
       "    </tr>\n",
       "  </tbody>\n",
       "</table>\n",
       "</div>"
      ],
      "text/plain": [
       "   PassengerId  Survived  Pclass              Name     Sex   Age  SibSp  \\\n",
       "0        32456         1       1  Benitez, Christy  female  45.0      1   \n",
       "1        40212         0       2      Dennis, Gary    male  32.0      0   \n",
       "2        49626         1       1     Oatney, Carol  female  29.0      1   \n",
       "3        17676         1       2    Bailey, Ronnie    male  55.0      0   \n",
       "4        29881         1       2   Summers, Pamela  female  62.0      0   \n",
       "\n",
       "   Parch    Ticket   Fare   Cabin Embarked  \n",
       "0      0     47782  34.53  C20721        S  \n",
       "1      0    202451   7.88     NaN        S  \n",
       "2      2  PC 22646  82.21  B14660        C  \n",
       "3      1    196804   9.65     NaN        S  \n",
       "4      0      6878  27.76     NaN        S  "
      ]
     },
     "execution_count": 15,
     "metadata": {},
     "output_type": "execute_result"
    }
   ],
   "source": [
    "df_train.head()"
   ]
  },
  {
   "cell_type": "code",
   "execution_count": 16,
   "id": "exact-supplement",
   "metadata": {},
   "outputs": [
    {
     "data": {
      "text/plain": [
       "PassengerId    50000\n",
       "Survived       50000\n",
       "Pclass         50000\n",
       "Name           50000\n",
       "Sex            50000\n",
       "Age            48370\n",
       "SibSp          50000\n",
       "Parch          50000\n",
       "Ticket         47605\n",
       "Fare           49945\n",
       "Cabin          16066\n",
       "Embarked       49881\n",
       "dtype: int64"
      ]
     },
     "execution_count": 16,
     "metadata": {},
     "output_type": "execute_result"
    }
   ],
   "source": [
    "df_train.count()"
   ]
  },
  {
   "cell_type": "code",
   "execution_count": 17,
   "id": "nutritional-priest",
   "metadata": {},
   "outputs": [],
   "source": [
    "df_test = pd.read_csv(test_path)"
   ]
  },
  {
   "cell_type": "code",
   "execution_count": 19,
   "id": "cardiovascular-nashville",
   "metadata": {},
   "outputs": [
    {
     "data": {
      "text/html": [
       "<div>\n",
       "<style scoped>\n",
       "    .dataframe tbody tr th:only-of-type {\n",
       "        vertical-align: middle;\n",
       "    }\n",
       "\n",
       "    .dataframe tbody tr th {\n",
       "        vertical-align: top;\n",
       "    }\n",
       "\n",
       "    .dataframe thead th {\n",
       "        text-align: right;\n",
       "    }\n",
       "</style>\n",
       "<table border=\"1\" class=\"dataframe\">\n",
       "  <thead>\n",
       "    <tr style=\"text-align: right;\">\n",
       "      <th></th>\n",
       "      <th>PassengerId</th>\n",
       "      <th>Survived</th>\n",
       "      <th>Pclass</th>\n",
       "      <th>Name</th>\n",
       "      <th>Sex</th>\n",
       "      <th>Age</th>\n",
       "      <th>SibSp</th>\n",
       "      <th>Parch</th>\n",
       "      <th>Ticket</th>\n",
       "      <th>Fare</th>\n",
       "      <th>Cabin</th>\n",
       "      <th>Embarked</th>\n",
       "    </tr>\n",
       "  </thead>\n",
       "  <tbody>\n",
       "    <tr>\n",
       "      <th>0</th>\n",
       "      <td>86332</td>\n",
       "      <td>0</td>\n",
       "      <td>2</td>\n",
       "      <td>Whitson, Ryan</td>\n",
       "      <td>male</td>\n",
       "      <td>24.0</td>\n",
       "      <td>0</td>\n",
       "      <td>0</td>\n",
       "      <td>A.5. 23091</td>\n",
       "      <td>25.16</td>\n",
       "      <td>NaN</td>\n",
       "      <td>S</td>\n",
       "    </tr>\n",
       "    <tr>\n",
       "      <th>1</th>\n",
       "      <td>58553</td>\n",
       "      <td>0</td>\n",
       "      <td>1</td>\n",
       "      <td>Crossland, Winston</td>\n",
       "      <td>male</td>\n",
       "      <td>52.0</td>\n",
       "      <td>0</td>\n",
       "      <td>0</td>\n",
       "      <td>465968</td>\n",
       "      <td>27.69</td>\n",
       "      <td>C20653</td>\n",
       "      <td>S</td>\n",
       "    </tr>\n",
       "    <tr>\n",
       "      <th>2</th>\n",
       "      <td>91948</td>\n",
       "      <td>0</td>\n",
       "      <td>3</td>\n",
       "      <td>Mullins, William</td>\n",
       "      <td>male</td>\n",
       "      <td>47.0</td>\n",
       "      <td>1</td>\n",
       "      <td>1</td>\n",
       "      <td>13873</td>\n",
       "      <td>13.06</td>\n",
       "      <td>NaN</td>\n",
       "      <td>S</td>\n",
       "    </tr>\n",
       "    <tr>\n",
       "      <th>3</th>\n",
       "      <td>92894</td>\n",
       "      <td>0</td>\n",
       "      <td>2</td>\n",
       "      <td>Mcnamara, Richard</td>\n",
       "      <td>male</td>\n",
       "      <td>1.0</td>\n",
       "      <td>1</td>\n",
       "      <td>2</td>\n",
       "      <td>469361</td>\n",
       "      <td>32.94</td>\n",
       "      <td>NaN</td>\n",
       "      <td>S</td>\n",
       "    </tr>\n",
       "    <tr>\n",
       "      <th>4</th>\n",
       "      <td>29714</td>\n",
       "      <td>0</td>\n",
       "      <td>2</td>\n",
       "      <td>Vogel, Richard</td>\n",
       "      <td>male</td>\n",
       "      <td>30.0</td>\n",
       "      <td>0</td>\n",
       "      <td>0</td>\n",
       "      <td>11235</td>\n",
       "      <td>7.03</td>\n",
       "      <td>NaN</td>\n",
       "      <td>S</td>\n",
       "    </tr>\n",
       "  </tbody>\n",
       "</table>\n",
       "</div>"
      ],
      "text/plain": [
       "   PassengerId  Survived  Pclass                Name   Sex   Age  SibSp  \\\n",
       "0        86332         0       2       Whitson, Ryan  male  24.0      0   \n",
       "1        58553         0       1  Crossland, Winston  male  52.0      0   \n",
       "2        91948         0       3    Mullins, William  male  47.0      1   \n",
       "3        92894         0       2   Mcnamara, Richard  male   1.0      1   \n",
       "4        29714         0       2      Vogel, Richard  male  30.0      0   \n",
       "\n",
       "   Parch      Ticket   Fare   Cabin Embarked  \n",
       "0      0  A.5. 23091  25.16     NaN        S  \n",
       "1      0      465968  27.69  C20653        S  \n",
       "2      1       13873  13.06     NaN        S  \n",
       "3      2      469361  32.94     NaN        S  \n",
       "4      0       11235   7.03     NaN        S  "
      ]
     },
     "execution_count": 19,
     "metadata": {},
     "output_type": "execute_result"
    }
   ],
   "source": [
    "df_test.head()"
   ]
  },
  {
   "cell_type": "markdown",
   "id": "broke-drain",
   "metadata": {},
   "source": [
    "# Feature Extraction "
   ]
  },
  {
   "cell_type": "code",
   "execution_count": 63,
   "id": "differential-chaos",
   "metadata": {},
   "outputs": [],
   "source": [
    "X = df_train[[\"Age\", \"Fare\", \"SibSp\"]]\n",
    "y = df_train[\"Survived\"]"
   ]
  },
  {
   "cell_type": "code",
   "execution_count": 64,
   "id": "underlying-charleston",
   "metadata": {},
   "outputs": [],
   "source": [
    "X_test = df_test[[\"Age\", \"Fare\", \"SibSp\"]]\n"
   ]
  },
  {
   "cell_type": "code",
   "execution_count": 50,
   "id": "solved-pension",
   "metadata": {},
   "outputs": [],
   "source": [
    "X_train, X_val, y_train, y_val = train_test_split(X, y, test_size=0.1, random_state=3041975)"
   ]
  },
  {
   "cell_type": "code",
   "execution_count": 51,
   "id": "subjective-fields",
   "metadata": {},
   "outputs": [],
   "source": [
    "lgb_train_data = lgb.Dataset(data=X_train, label=y_train)"
   ]
  },
  {
   "cell_type": "code",
   "execution_count": 52,
   "id": "turkish-nickel",
   "metadata": {},
   "outputs": [],
   "source": [
    "lgb_val_data = lgb.Dataset(data=X_val, label=y_val, reference=lgb_train_data)"
   ]
  },
  {
   "cell_type": "code",
   "execution_count": 53,
   "id": "civil-comedy",
   "metadata": {},
   "outputs": [],
   "source": [
    "# lgbm_params = {\n",
    "#     'boosting': 'gbdt',          # dart (drop out trees) often performs better\n",
    "#     'application': 'binary',     # Binary classification\n",
    "#     'learning_rate': 0.02,       # Learning rate, controls size of a gradient descent step\n",
    "#     'min_data_in_leaf': 100,      # Data set is quite small so reduce this a bit\n",
    "#     'feature_fraction': 0.7,     # Proportion of features in each boost, controls overfitting\n",
    "#     'metric': 'auc',  # Area under ROC curve as the evaulation metric,\n",
    "#     'lambda_l1': 5e-05, \n",
    "#     'lambda_l2': 1.35e-08, \n",
    "#     'num_leaves': 216, \n",
    "#     'feature_fraction': 0.7458519562366559, \n",
    "#     'bagging_fraction': 0.7835116194444349, \n",
    "#     'bagging_freq': 2, \n",
    "#     'min_child_samples': 95\n",
    "# }"
   ]
  },
  {
   "cell_type": "code",
   "execution_count": 54,
   "id": "alien-meeting",
   "metadata": {},
   "outputs": [],
   "source": [
    "lgbm_params = {\n",
    "    'boosting': 'gbdt',          # dart (drop out trees) often performs better\n",
    "    'application': 'binary',     # Binary classification\n",
    "    'learning_rate': 0.001,       # Learning rate, controls size of a gradient descent step\n",
    "    'feature_fraction': 0.7,     # Proportion of features in each boost, controls overfitting\n",
    "    'metric': 'auc',  # Area under ROC curve as the evaulation metric,\n",
    "    'lambda_l1': 5e-05, \n",
    "    'lambda_l2': 1.35e-08, \n",
    "    'num_leaves': 216, \n",
    "}"
   ]
  },
  {
   "cell_type": "code",
   "execution_count": 55,
   "id": "respiratory-journal",
   "metadata": {},
   "outputs": [
    {
     "name": "stdout",
     "output_type": "stream",
     "text": [
      "[LightGBM] [Info] Number of positive: 19372, number of negative: 25628\n",
      "[LightGBM] [Warning] Auto-choosing col-wise multi-threading, the overhead of testing was 0.001383 seconds.\n",
      "You can set `force_col_wise=true` to remove the overhead.\n",
      "[LightGBM] [Info] Total Bins 394\n",
      "[LightGBM] [Info] Number of data points in the train set: 45000, number of used features: 3\n",
      "[LightGBM] [Info] [binary:BoostFromScore]: pavg=0.430489 -> initscore=-0.279857\n",
      "[LightGBM] [Info] Start training from score -0.279857\n",
      "[100]\ttrain_data's auc: 0.601026\tval_data's auc: 0.579583\n",
      "[200]\ttrain_data's auc: 0.601316\tval_data's auc: 0.579126\n",
      "[300]\ttrain_data's auc: 0.60142\tval_data's auc: 0.578947\n",
      "[400]\ttrain_data's auc: 0.601493\tval_data's auc: 0.578739\n",
      "[500]\ttrain_data's auc: 0.601527\tval_data's auc: 0.578804\n",
      "[600]\ttrain_data's auc: 0.60157\tval_data's auc: 0.579027\n",
      "[700]\ttrain_data's auc: 0.601677\tval_data's auc: 0.579132\n",
      "[800]\ttrain_data's auc: 0.601747\tval_data's auc: 0.579287\n",
      "[900]\ttrain_data's auc: 0.601824\tval_data's auc: 0.579468\n",
      "[1000]\ttrain_data's auc: 0.601888\tval_data's auc: 0.579483\n",
      "[1100]\ttrain_data's auc: 0.601965\tval_data's auc: 0.579624\n",
      "[1200]\ttrain_data's auc: 0.602092\tval_data's auc: 0.579551\n",
      "[1300]\ttrain_data's auc: 0.602169\tval_data's auc: 0.579491\n",
      "[1400]\ttrain_data's auc: 0.602232\tval_data's auc: 0.579477\n",
      "[1500]\ttrain_data's auc: 0.602329\tval_data's auc: 0.579652\n",
      "[1600]\ttrain_data's auc: 0.602393\tval_data's auc: 0.579767\n",
      "[1700]\ttrain_data's auc: 0.602449\tval_data's auc: 0.579962\n",
      "[1800]\ttrain_data's auc: 0.602502\tval_data's auc: 0.580073\n",
      "[1900]\ttrain_data's auc: 0.602553\tval_data's auc: 0.580124\n",
      "[2000]\ttrain_data's auc: 0.602613\tval_data's auc: 0.580193\n"
     ]
    }
   ],
   "source": [
    "num_boost_round = 2000\n",
    "model = lgb.train(lgbm_params, lgb_train_data, valid_sets = [lgb_train_data, lgb_val_data], valid_names=[\"train_data\", \"val_data\"], verbose_eval=100, num_boost_round=num_boost_round)"
   ]
  },
  {
   "cell_type": "markdown",
   "id": "substantial-house",
   "metadata": {},
   "source": [
    "# Evaluation "
   ]
  },
  {
   "cell_type": "code",
   "execution_count": 57,
   "id": "material-maker",
   "metadata": {},
   "outputs": [],
   "source": [
    "flag = False"
   ]
  },
  {
   "cell_type": "code",
   "execution_count": 58,
   "id": "eastern-tuition",
   "metadata": {},
   "outputs": [],
   "source": [
    "if \"local\" in train_path:\n",
    "    flag = True"
   ]
  },
  {
   "cell_type": "code",
   "execution_count": 59,
   "id": "typical-territory",
   "metadata": {},
   "outputs": [
    {
     "data": {
      "text/plain": [
       "True"
      ]
     },
     "execution_count": 59,
     "metadata": {},
     "output_type": "execute_result"
    }
   ],
   "source": [
    "flag"
   ]
  },
  {
   "cell_type": "code",
   "execution_count": 65,
   "id": "egyptian-reaction",
   "metadata": {},
   "outputs": [],
   "source": [
    "y_pred = model.predict(X_test, num_iteration=model.best_iteration)"
   ]
  },
  {
   "cell_type": "code",
   "execution_count": 75,
   "id": "freelance-plastic",
   "metadata": {},
   "outputs": [],
   "source": [
    "if flag:\n",
    "    y_test = df_test[\"Survived\"]\n",
    "    precision, recall, thresholds = precision_recall_curve(y_test, y_pred)\n",
    "    df_curve = pd.DataFrame({\"precision\": precision, \"recall\": recall})\n",
    "    "
   ]
  },
  {
   "cell_type": "code",
   "execution_count": 79,
   "id": "swiss-posting",
   "metadata": {},
   "outputs": [
    {
     "data": {
      "image/png": "[encoded data removed]",
      "text/plain": [
       "<Figure size 432x288 with 1 Axes>"
      ]
     },
     "metadata": {
      "needs_background": "light"
     },
     "output_type": "display_data"
    }
   ],
   "source": [
    "if flag:\n",
    "    sns.lineplot(data=df_curve)"
   ]
  },
  {
   "cell_type": "code",
   "execution_count": 80,
   "id": "medium-republican",
   "metadata": {},
   "outputs": [],
   "source": [
    "thresholds_meow = [i*0.01 for i in range(1,100)]"
   ]
  },
  {
   "cell_type": "code",
   "execution_count": 88,
   "id": "protective-lodging",
   "metadata": {},
   "outputs": [
    {
     "data": {
      "image/png": "[encoded data removed]",
      "text/plain": [
       "<Figure size 432x288 with 1 Axes>"
      ]
     },
     "metadata": {
      "needs_background": "light"
     },
     "output_type": "display_data"
    }
   ],
   "source": [
    "if flag: \n",
    "    acc_list = []\n",
    "    for threshold in thresholds_meow:\n",
    "        y_pred_one = [1 if y > threshold else 0 for y in y_pred]\n",
    "        accuracy = accuracy_score(y_test, y_pred_one)\n",
    "        acc_list.append(accuracy)\n",
    "    df_acc = pd.DataFrame({\"threshold\":thresholds_meow, \"accuracy\":acc_list})\n",
    "    ax = sns.lineplot(data=df_acc, x=\"threshold\", y=\"accuracy\")\n",
    "    ax.set_ylim(0, 1)"
   ]
  },
  {
   "cell_type": "code",
   "execution_count": null,
   "id": "collect-questionnaire",
   "metadata": {},
   "outputs": [],
   "source": []
  }
 ],
 "metadata": {
  "kernelspec": {
   "display_name": "Python 3",
   "language": "python",
   "name": "python3"
  },
  "language_info": {
   "codemirror_mode": {
    "name": "ipython",
    "version": 3
   },
   "file_extension": ".py",
   "mimetype": "text/x-python",
   "name": "python",
   "nbconvert_exporter": "python",
   "pygments_lexer": "ipython3",
   "version": "3.8.1"
  }
 },
 "nbformat": 4,
 "nbformat_minor": 5
}
